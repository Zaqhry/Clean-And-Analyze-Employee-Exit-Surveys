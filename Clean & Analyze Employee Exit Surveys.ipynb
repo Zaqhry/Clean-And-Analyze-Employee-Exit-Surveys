{
 "cells": [
  {
   "cell_type": "markdown",
   "metadata": {},
   "source": [
    "### Import Pandas & 2 DataFrames"
   ]
  },
  {
   "cell_type": "code",
   "execution_count": 2,
   "metadata": {},
   "outputs": [],
   "source": [
    "import pandas as pd\n",
    "import numpy as np\n",
    "import matplotlib.pyplot as plt\n",
    "%matplotlib inline\n",
    "import seaborn as sns\n",
    "\n",
    "dete_survey = pd.read_csv('dete_survey.csv')\n",
    "tafe_survey = pd.read_csv('tafe_survey.csv')"
   ]
  },
  {
   "cell_type": "markdown",
   "metadata": {},
   "source": [
    "### Print info about the first 5 rows  and Explore the data in the Dete Survey DataFrame  "
   ]
  },
  {
   "cell_type": "code",
   "execution_count": 3,
   "metadata": {},
   "outputs": [
    {
     "name": "stdout",
     "output_type": "stream",
     "text": [
      "DETE SURVEY INFO \n",
      "\n",
      "<class 'pandas.core.frame.DataFrame'>\n",
      "RangeIndex: 822 entries, 0 to 821\n",
      "Data columns (total 56 columns):\n",
      " #   Column                               Non-Null Count  Dtype \n",
      "---  ------                               --------------  ----- \n",
      " 0   ID                                   822 non-null    int64 \n",
      " 1   SeparationType                       822 non-null    object\n",
      " 2   Cease Date                           822 non-null    object\n",
      " 3   DETE Start Date                      822 non-null    object\n",
      " 4   Role Start Date                      822 non-null    object\n",
      " 5   Position                             817 non-null    object\n",
      " 6   Classification                       455 non-null    object\n",
      " 7   Region                               822 non-null    object\n",
      " 8   Business Unit                        126 non-null    object\n",
      " 9   Employment Status                    817 non-null    object\n",
      " 10  Career move to public sector         822 non-null    bool  \n",
      " 11  Career move to private sector        822 non-null    bool  \n",
      " 12  Interpersonal conflicts              822 non-null    bool  \n",
      " 13  Job dissatisfaction                  822 non-null    bool  \n",
      " 14  Dissatisfaction with the department  822 non-null    bool  \n",
      " 15  Physical work environment            822 non-null    bool  \n",
      " 16  Lack of recognition                  822 non-null    bool  \n",
      " 17  Lack of job security                 822 non-null    bool  \n",
      " 18  Work location                        822 non-null    bool  \n",
      " 19  Employment conditions                822 non-null    bool  \n",
      " 20  Maternity/family                     822 non-null    bool  \n",
      " 21  Relocation                           822 non-null    bool  \n",
      " 22  Study/Travel                         822 non-null    bool  \n",
      " 23  Ill Health                           822 non-null    bool  \n",
      " 24  Traumatic incident                   822 non-null    bool  \n",
      " 25  Work life balance                    822 non-null    bool  \n",
      " 26  Workload                             822 non-null    bool  \n",
      " 27  None of the above                    822 non-null    bool  \n",
      " 28  Professional Development             808 non-null    object\n",
      " 29  Opportunities for promotion          735 non-null    object\n",
      " 30  Staff morale                         816 non-null    object\n",
      " 31  Workplace issue                      788 non-null    object\n",
      " 32  Physical environment                 817 non-null    object\n",
      " 33  Worklife balance                     815 non-null    object\n",
      " 34  Stress and pressure support          810 non-null    object\n",
      " 35  Performance of supervisor            813 non-null    object\n",
      " 36  Peer support                         812 non-null    object\n",
      " 37  Initiative                           813 non-null    object\n",
      " 38  Skills                               811 non-null    object\n",
      " 39  Coach                                767 non-null    object\n",
      " 40  Career Aspirations                   746 non-null    object\n",
      " 41  Feedback                             792 non-null    object\n",
      " 42  Further PD                           768 non-null    object\n",
      " 43  Communication                        814 non-null    object\n",
      " 44  My say                               812 non-null    object\n",
      " 45  Information                          816 non-null    object\n",
      " 46  Kept informed                        813 non-null    object\n",
      " 47  Wellness programs                    766 non-null    object\n",
      " 48  Health & Safety                      793 non-null    object\n",
      " 49  Gender                               798 non-null    object\n",
      " 50  Age                                  811 non-null    object\n",
      " 51  Aboriginal                           16 non-null     object\n",
      " 52  Torres Strait                        3 non-null      object\n",
      " 53  South Sea                            7 non-null      object\n",
      " 54  Disability                           23 non-null     object\n",
      " 55  NESB                                 32 non-null     object\n",
      "dtypes: bool(18), int64(1), object(37)\n",
      "memory usage: 258.6+ KB\n",
      "None \n",
      "\n",
      "DETE SURVEY MISSING VALUES \n",
      "\n",
      "ID                                       0\n",
      "SeparationType                           0\n",
      "Cease Date                               0\n",
      "DETE Start Date                          0\n",
      "Role Start Date                          0\n",
      "Position                                 5\n",
      "Classification                         367\n",
      "Region                                   0\n",
      "Business Unit                          696\n",
      "Employment Status                        5\n",
      "Career move to public sector             0\n",
      "Career move to private sector            0\n",
      "Interpersonal conflicts                  0\n",
      "Job dissatisfaction                      0\n",
      "Dissatisfaction with the department      0\n",
      "Physical work environment                0\n",
      "Lack of recognition                      0\n",
      "Lack of job security                     0\n",
      "Work location                            0\n",
      "Employment conditions                    0\n",
      "Maternity/family                         0\n",
      "Relocation                               0\n",
      "Study/Travel                             0\n",
      "Ill Health                               0\n",
      "Traumatic incident                       0\n",
      "Work life balance                        0\n",
      "Workload                                 0\n",
      "None of the above                        0\n",
      "Professional Development                14\n",
      "Opportunities for promotion             87\n",
      "Staff morale                             6\n",
      "Workplace issue                         34\n",
      "Physical environment                     5\n",
      "Worklife balance                         7\n",
      "Stress and pressure support             12\n",
      "Performance of supervisor                9\n",
      "Peer support                            10\n",
      "Initiative                               9\n",
      "Skills                                  11\n",
      "Coach                                   55\n",
      "Career Aspirations                      76\n",
      "Feedback                                30\n",
      "Further PD                              54\n",
      "Communication                            8\n",
      "My say                                  10\n",
      "Information                              6\n",
      "Kept informed                            9\n",
      "Wellness programs                       56\n",
      "Health & Safety                         29\n",
      "Gender                                  24\n",
      "Age                                     11\n",
      "Aboriginal                             806\n",
      "Torres Strait                          819\n",
      "South Sea                              815\n",
      "Disability                             799\n",
      "NESB                                   790\n",
      "dtype: int64 \n",
      "\n",
      "TOTAL MISSING VALUES = 5674 \n",
      "\n",
      "SHAPE OF DETE SURVEY: (822, 56) \n",
      "\n",
      "FIRST 5 ROWS OF DETE SURVEY \n",
      "\n"
     ]
    },
    {
     "data": {
      "text/html": [
       "<div>\n",
       "<style scoped>\n",
       "    .dataframe tbody tr th:only-of-type {\n",
       "        vertical-align: middle;\n",
       "    }\n",
       "\n",
       "    .dataframe tbody tr th {\n",
       "        vertical-align: top;\n",
       "    }\n",
       "\n",
       "    .dataframe thead th {\n",
       "        text-align: right;\n",
       "    }\n",
       "</style>\n",
       "<table border=\"1\" class=\"dataframe\">\n",
       "  <thead>\n",
       "    <tr style=\"text-align: right;\">\n",
       "      <th></th>\n",
       "      <th>ID</th>\n",
       "      <th>SeparationType</th>\n",
       "      <th>Cease Date</th>\n",
       "      <th>DETE Start Date</th>\n",
       "      <th>Role Start Date</th>\n",
       "      <th>Position</th>\n",
       "      <th>Classification</th>\n",
       "      <th>Region</th>\n",
       "      <th>Business Unit</th>\n",
       "      <th>Employment Status</th>\n",
       "      <th>...</th>\n",
       "      <th>Kept informed</th>\n",
       "      <th>Wellness programs</th>\n",
       "      <th>Health &amp; Safety</th>\n",
       "      <th>Gender</th>\n",
       "      <th>Age</th>\n",
       "      <th>Aboriginal</th>\n",
       "      <th>Torres Strait</th>\n",
       "      <th>South Sea</th>\n",
       "      <th>Disability</th>\n",
       "      <th>NESB</th>\n",
       "    </tr>\n",
       "  </thead>\n",
       "  <tbody>\n",
       "    <tr>\n",
       "      <th>0</th>\n",
       "      <td>1</td>\n",
       "      <td>Ill Health Retirement</td>\n",
       "      <td>08/2012</td>\n",
       "      <td>1984</td>\n",
       "      <td>2004</td>\n",
       "      <td>Public Servant</td>\n",
       "      <td>A01-A04</td>\n",
       "      <td>Central Office</td>\n",
       "      <td>Corporate Strategy and Peformance</td>\n",
       "      <td>Permanent Full-time</td>\n",
       "      <td>...</td>\n",
       "      <td>N</td>\n",
       "      <td>N</td>\n",
       "      <td>N</td>\n",
       "      <td>Male</td>\n",
       "      <td>56-60</td>\n",
       "      <td>NaN</td>\n",
       "      <td>NaN</td>\n",
       "      <td>NaN</td>\n",
       "      <td>NaN</td>\n",
       "      <td>Yes</td>\n",
       "    </tr>\n",
       "    <tr>\n",
       "      <th>1</th>\n",
       "      <td>2</td>\n",
       "      <td>Voluntary Early Retirement (VER)</td>\n",
       "      <td>08/2012</td>\n",
       "      <td>Not Stated</td>\n",
       "      <td>Not Stated</td>\n",
       "      <td>Public Servant</td>\n",
       "      <td>AO5-AO7</td>\n",
       "      <td>Central Office</td>\n",
       "      <td>Corporate Strategy and Peformance</td>\n",
       "      <td>Permanent Full-time</td>\n",
       "      <td>...</td>\n",
       "      <td>N</td>\n",
       "      <td>N</td>\n",
       "      <td>N</td>\n",
       "      <td>Male</td>\n",
       "      <td>56-60</td>\n",
       "      <td>NaN</td>\n",
       "      <td>NaN</td>\n",
       "      <td>NaN</td>\n",
       "      <td>NaN</td>\n",
       "      <td>NaN</td>\n",
       "    </tr>\n",
       "    <tr>\n",
       "      <th>2</th>\n",
       "      <td>3</td>\n",
       "      <td>Voluntary Early Retirement (VER)</td>\n",
       "      <td>05/2012</td>\n",
       "      <td>2011</td>\n",
       "      <td>2011</td>\n",
       "      <td>Schools Officer</td>\n",
       "      <td>NaN</td>\n",
       "      <td>Central Office</td>\n",
       "      <td>Education Queensland</td>\n",
       "      <td>Permanent Full-time</td>\n",
       "      <td>...</td>\n",
       "      <td>N</td>\n",
       "      <td>N</td>\n",
       "      <td>N</td>\n",
       "      <td>Male</td>\n",
       "      <td>61 or older</td>\n",
       "      <td>NaN</td>\n",
       "      <td>NaN</td>\n",
       "      <td>NaN</td>\n",
       "      <td>NaN</td>\n",
       "      <td>NaN</td>\n",
       "    </tr>\n",
       "    <tr>\n",
       "      <th>3</th>\n",
       "      <td>4</td>\n",
       "      <td>Resignation-Other reasons</td>\n",
       "      <td>05/2012</td>\n",
       "      <td>2005</td>\n",
       "      <td>2006</td>\n",
       "      <td>Teacher</td>\n",
       "      <td>Primary</td>\n",
       "      <td>Central Queensland</td>\n",
       "      <td>NaN</td>\n",
       "      <td>Permanent Full-time</td>\n",
       "      <td>...</td>\n",
       "      <td>A</td>\n",
       "      <td>N</td>\n",
       "      <td>A</td>\n",
       "      <td>Female</td>\n",
       "      <td>36-40</td>\n",
       "      <td>NaN</td>\n",
       "      <td>NaN</td>\n",
       "      <td>NaN</td>\n",
       "      <td>NaN</td>\n",
       "      <td>NaN</td>\n",
       "    </tr>\n",
       "    <tr>\n",
       "      <th>4</th>\n",
       "      <td>5</td>\n",
       "      <td>Age Retirement</td>\n",
       "      <td>05/2012</td>\n",
       "      <td>1970</td>\n",
       "      <td>1989</td>\n",
       "      <td>Head of Curriculum/Head of Special Education</td>\n",
       "      <td>NaN</td>\n",
       "      <td>South East</td>\n",
       "      <td>NaN</td>\n",
       "      <td>Permanent Full-time</td>\n",
       "      <td>...</td>\n",
       "      <td>N</td>\n",
       "      <td>A</td>\n",
       "      <td>M</td>\n",
       "      <td>Female</td>\n",
       "      <td>61 or older</td>\n",
       "      <td>NaN</td>\n",
       "      <td>NaN</td>\n",
       "      <td>NaN</td>\n",
       "      <td>NaN</td>\n",
       "      <td>NaN</td>\n",
       "    </tr>\n",
       "  </tbody>\n",
       "</table>\n",
       "<p>5 rows × 56 columns</p>\n",
       "</div>"
      ],
      "text/plain": [
       "   ID                    SeparationType Cease Date DETE Start Date  \\\n",
       "0   1             Ill Health Retirement    08/2012            1984   \n",
       "1   2  Voluntary Early Retirement (VER)    08/2012      Not Stated   \n",
       "2   3  Voluntary Early Retirement (VER)    05/2012            2011   \n",
       "3   4         Resignation-Other reasons    05/2012            2005   \n",
       "4   5                    Age Retirement    05/2012            1970   \n",
       "\n",
       "  Role Start Date                                      Position  \\\n",
       "0            2004                                Public Servant   \n",
       "1      Not Stated                                Public Servant   \n",
       "2            2011                               Schools Officer   \n",
       "3            2006                                       Teacher   \n",
       "4            1989  Head of Curriculum/Head of Special Education   \n",
       "\n",
       "  Classification              Region                      Business Unit  \\\n",
       "0        A01-A04      Central Office  Corporate Strategy and Peformance   \n",
       "1        AO5-AO7      Central Office  Corporate Strategy and Peformance   \n",
       "2            NaN      Central Office               Education Queensland   \n",
       "3        Primary  Central Queensland                                NaN   \n",
       "4            NaN          South East                                NaN   \n",
       "\n",
       "     Employment Status  ...  Kept informed  Wellness programs  \\\n",
       "0  Permanent Full-time  ...              N                  N   \n",
       "1  Permanent Full-time  ...              N                  N   \n",
       "2  Permanent Full-time  ...              N                  N   \n",
       "3  Permanent Full-time  ...              A                  N   \n",
       "4  Permanent Full-time  ...              N                  A   \n",
       "\n",
       "   Health & Safety  Gender          Age  Aboriginal  Torres Strait  South Sea  \\\n",
       "0                N    Male        56-60         NaN            NaN        NaN   \n",
       "1                N    Male        56-60         NaN            NaN        NaN   \n",
       "2                N    Male  61 or older         NaN            NaN        NaN   \n",
       "3                A  Female        36-40         NaN            NaN        NaN   \n",
       "4                M  Female  61 or older         NaN            NaN        NaN   \n",
       "\n",
       "   Disability  NESB  \n",
       "0         NaN   Yes  \n",
       "1         NaN   NaN  \n",
       "2         NaN   NaN  \n",
       "3         NaN   NaN  \n",
       "4         NaN   NaN  \n",
       "\n",
       "[5 rows x 56 columns]"
      ]
     },
     "execution_count": 3,
     "metadata": {},
     "output_type": "execute_result"
    }
   ],
   "source": [
    "print('DETE SURVEY INFO','\\n')\n",
    "print(dete_survey.info(),'\\n')\n",
    "print('DETE SURVEY MISSING VALUES','\\n')\n",
    "print(dete_survey.isnull().sum(),'\\n')\n",
    "print('TOTAL MISSING VALUES =', dete_survey.isnull().values.ravel().sum(),'\\n')\n",
    "print('SHAPE OF DETE SURVEY:',dete_survey.shape,'\\n')\n",
    "print('FIRST 5 ROWS OF DETE SURVEY','\\n')\n",
    "dete_survey.head()\n"
   ]
  },
  {
   "cell_type": "markdown",
   "metadata": {},
   "source": [
    "### Print info about the first 5 rows  and Explore the data in the Tafe Survey DataFrame  "
   ]
  },
  {
   "cell_type": "code",
   "execution_count": null,
   "metadata": {},
   "outputs": [],
   "source": [
    "print('TAFE SURVEY INFO','\\n')\n",
    "print(tafe_survey.info(),'\\n')\n",
    "print('TAFE SURVEY MISSING VALUES','\\n')\n",
    "print(tafe_survey.isnull().sum(),'\\n')\n",
    "print('TOTAL MISSING VALUES =', tafe_survey.isnull().values.ravel().sum(),'\\n')\n",
    "print('SHAPE OF TAFE SURVEY:',tafe_survey.shape,'\\n')\n",
    "print('FIRST 5 ROWS OF TAFE SURVEY')\n",
    "tafe_survey.head()"
   ]
  },
  {
   "cell_type": "markdown",
   "metadata": {},
   "source": [
    "### Print the length of columns in both DataFrames "
   ]
  },
  {
   "cell_type": "code",
   "execution_count": null,
   "metadata": {},
   "outputs": [],
   "source": [
    "#Length of Dete Survey Columns\n",
    "print('Length of Dete Survey is:',len(dete_survey.columns))\n",
    "#Length of Tafe Survey Columns \n",
    "print('Length of Tafe Survey is:',len(tafe_survey.columns))\n"
   ]
  },
  {
   "cell_type": "markdown",
   "metadata": {},
   "source": [
    "### Identify Numerical and Categorical Columns "
   ]
  },
  {
   "cell_type": "code",
   "execution_count": 4,
   "metadata": {
    "scrolled": true
   },
   "outputs": [],
   "source": [
    "#Numerical Columns in Dete Survey \n",
    "num_vars_dete = dete_survey.columns[dete_survey.dtypes != 'object']\n",
    "#Categorical Columns in Dete Survey\n",
    "obj_vars_dete = dete_survey.columns[dete_survey.dtypes == 'object']\n",
    "#Numerical Columns in Tafe Survey\n",
    "num_vars_tafe = tafe_survey.columns[tafe_survey.dtypes != 'object']\n",
    "#Categorical Columns in Tafe Survey\n",
    "obj_vars_tafe = tafe_survey.columns[tafe_survey.dtypes == 'object']"
   ]
  },
  {
   "cell_type": "markdown",
   "metadata": {},
   "source": [
    "### Print the Numerical Value Columns in both DataFrames "
   ]
  },
  {
   "cell_type": "code",
   "execution_count": 5,
   "metadata": {},
   "outputs": [
    {
     "name": "stdout",
     "output_type": "stream",
     "text": [
      "Numerical Value Columns in Dete Survey \n",
      " \n",
      " Index(['ID', 'Career move to public sector', 'Career move to private sector',\n",
      "       'Interpersonal conflicts', 'Job dissatisfaction',\n",
      "       'Dissatisfaction with the department', 'Physical work environment',\n",
      "       'Lack of recognition', 'Lack of job security', 'Work location',\n",
      "       'Employment conditions', 'Maternity/family', 'Relocation',\n",
      "       'Study/Travel', 'Ill Health', 'Traumatic incident', 'Work life balance',\n",
      "       'Workload', 'None of the above'],\n",
      "      dtype='object') \n",
      "\n",
      "Numerical Value Columns in Tafe Survey \n",
      " \n",
      " Index(['Record ID', 'CESSATION YEAR'], dtype='object')\n"
     ]
    }
   ],
   "source": [
    "print('Numerical Value Columns in Dete Survey','\\n','\\n',num_vars_dete,'\\n')\n",
    "print('Numerical Value Columns in Tafe Survey','\\n','\\n',num_vars_tafe)"
   ]
  },
  {
   "cell_type": "markdown",
   "metadata": {},
   "source": [
    "### Print the Categorical Value Columns in both DataFrames "
   ]
  },
  {
   "cell_type": "code",
   "execution_count": 6,
   "metadata": {
    "scrolled": true
   },
   "outputs": [
    {
     "name": "stdout",
     "output_type": "stream",
     "text": [
      "Categorical Value Columns in Dete Survey \n",
      " \n",
      " Index(['SeparationType', 'Cease Date', 'DETE Start Date', 'Role Start Date',\n",
      "       'Position', 'Classification', 'Region', 'Business Unit',\n",
      "       'Employment Status', 'Professional Development',\n",
      "       'Opportunities for promotion', 'Staff morale', 'Workplace issue',\n",
      "       'Physical environment', 'Worklife balance',\n",
      "       'Stress and pressure support', 'Performance of supervisor',\n",
      "       'Peer support', 'Initiative', 'Skills', 'Coach', 'Career Aspirations',\n",
      "       'Feedback', 'Further PD', 'Communication', 'My say', 'Information',\n",
      "       'Kept informed', 'Wellness programs', 'Health & Safety', 'Gender',\n",
      "       'Age', 'Aboriginal', 'Torres Strait', 'South Sea', 'Disability',\n",
      "       'NESB'],\n",
      "      dtype='object') \n",
      "\n",
      "Categorical Value Columns in Tafe Survey \n",
      " \n",
      " Index(['Institute', 'WorkArea', 'Reason for ceasing employment',\n",
      "       'Contributing Factors. Career Move - Public Sector ',\n",
      "       'Contributing Factors. Career Move - Private Sector ',\n",
      "       'Contributing Factors. Career Move - Self-employment',\n",
      "       'Contributing Factors. Ill Health',\n",
      "       'Contributing Factors. Maternity/Family',\n",
      "       'Contributing Factors. Dissatisfaction',\n",
      "       'Contributing Factors. Job Dissatisfaction',\n",
      "       'Contributing Factors. Interpersonal Conflict',\n",
      "       'Contributing Factors. Study', 'Contributing Factors. Travel',\n",
      "       'Contributing Factors. Other', 'Contributing Factors. NONE',\n",
      "       'Main Factor. Which of these was the main factor for leaving?',\n",
      "       'InstituteViews. Topic:1. I feel the senior leadership had a clear vision and direction',\n",
      "       'InstituteViews. Topic:2. I was given access to skills training to help me do my job better',\n",
      "       'InstituteViews. Topic:3. I was given adequate opportunities for personal development',\n",
      "       'InstituteViews. Topic:4. I was given adequate opportunities for promotion within %Institute]Q25LBL%',\n",
      "       'InstituteViews. Topic:5. I felt the salary for the job was right for the responsibilities I had',\n",
      "       'InstituteViews. Topic:6. The organisation recognised when staff did good work',\n",
      "       'InstituteViews. Topic:7. Management was generally supportive of me',\n",
      "       'InstituteViews. Topic:8. Management was generally supportive of my team',\n",
      "       'InstituteViews. Topic:9. I was kept informed of the changes in the organisation which would affect me',\n",
      "       'InstituteViews. Topic:10. Staff morale was positive within the Institute',\n",
      "       'InstituteViews. Topic:11. If I had a workplace issue it was dealt with quickly',\n",
      "       'InstituteViews. Topic:12. If I had a workplace issue it was dealt with efficiently',\n",
      "       'InstituteViews. Topic:13. If I had a workplace issue it was dealt with discreetly',\n",
      "       'WorkUnitViews. Topic:14. I was satisfied with the quality of the management and supervision within my work unit',\n",
      "       'WorkUnitViews. Topic:15. I worked well with my colleagues',\n",
      "       'WorkUnitViews. Topic:16. My job was challenging and interesting',\n",
      "       'WorkUnitViews. Topic:17. I was encouraged to use my initiative in the course of my work',\n",
      "       'WorkUnitViews. Topic:18. I had sufficient contact with other people in my job',\n",
      "       'WorkUnitViews. Topic:19. I was given adequate support and co-operation by my peers to enable me to do my job',\n",
      "       'WorkUnitViews. Topic:20. I was able to use the full range of my skills in my job',\n",
      "       'WorkUnitViews. Topic:21. I was able to use the full range of my abilities in my job. ; Category:Level of Agreement; Question:YOUR VIEWS ABOUT YOUR WORK UNIT]',\n",
      "       'WorkUnitViews. Topic:22. I was able to use the full range of my knowledge in my job',\n",
      "       'WorkUnitViews. Topic:23. My job provided sufficient variety',\n",
      "       'WorkUnitViews. Topic:24. I was able to cope with the level of stress and pressure in my job',\n",
      "       'WorkUnitViews. Topic:25. My job allowed me to balance the demands of work and family to my satisfaction',\n",
      "       'WorkUnitViews. Topic:26. My supervisor gave me adequate personal recognition and feedback on my performance',\n",
      "       'WorkUnitViews. Topic:27. My working environment was satisfactory e.g. sufficient space, good lighting, suitable seating and working area',\n",
      "       'WorkUnitViews. Topic:28. I was given the opportunity to mentor and coach others in order for me to pass on my skills and knowledge prior to my cessation date',\n",
      "       'WorkUnitViews. Topic:29. There was adequate communication between staff in my unit',\n",
      "       'WorkUnitViews. Topic:30. Staff morale was positive within my work unit',\n",
      "       'Induction. Did you undertake Workplace Induction?',\n",
      "       'InductionInfo. Topic:Did you undertake a Corporate Induction?',\n",
      "       'InductionInfo. Topic:Did you undertake a Institute Induction?',\n",
      "       'InductionInfo. Topic: Did you undertake Team Induction?',\n",
      "       'InductionInfo. Face to Face Topic:Did you undertake a Corporate Induction; Category:How it was conducted?',\n",
      "       'InductionInfo. On-line Topic:Did you undertake a Corporate Induction; Category:How it was conducted?',\n",
      "       'InductionInfo. Induction Manual Topic:Did you undertake a Corporate Induction?',\n",
      "       'InductionInfo. Face to Face Topic:Did you undertake a Institute Induction?',\n",
      "       'InductionInfo. On-line Topic:Did you undertake a Institute Induction?',\n",
      "       'InductionInfo. Induction Manual Topic:Did you undertake a Institute Induction?',\n",
      "       'InductionInfo. Face to Face Topic: Did you undertake Team Induction; Category?',\n",
      "       'InductionInfo. On-line Topic: Did you undertake Team Induction?process you undertook and how it was conducted.]',\n",
      "       'InductionInfo. Induction Manual Topic: Did you undertake Team Induction?',\n",
      "       'Workplace. Topic:Did you and your Manager develop a Performance and Professional Development Plan (PPDP)?',\n",
      "       'Workplace. Topic:Does your workplace promote a work culture free from all forms of unlawful discrimination?',\n",
      "       'Workplace. Topic:Does your workplace promote and practice the principles of employment equity?',\n",
      "       'Workplace. Topic:Does your workplace value the diversity of its employees?',\n",
      "       'Workplace. Topic:Would you recommend the Institute as an employer to others?',\n",
      "       'Gender. What is your Gender?', 'CurrentAge. Current Age',\n",
      "       'Employment Type. Employment Type', 'Classification. Classification',\n",
      "       'LengthofServiceOverall. Overall Length of Service at Institute (in years)',\n",
      "       'LengthofServiceCurrent. Length of Service at current workplace (in years)'],\n",
      "      dtype='object')\n"
     ]
    }
   ],
   "source": [
    "print('Categorical Value Columns in Dete Survey','\\n','\\n',obj_vars_dete,'\\n')\n",
    "print('Categorical Value Columns in Tafe Survey','\\n','\\n',obj_vars_tafe)"
   ]
  },
  {
   "cell_type": "markdown",
   "metadata": {},
   "source": [
    "### Print the Length of Numerical Value  and Categorical Columns in both DataFrames"
   ]
  },
  {
   "cell_type": "code",
   "execution_count": 7,
   "metadata": {},
   "outputs": [
    {
     "name": "stdout",
     "output_type": "stream",
     "text": [
      "Length of Numerical Value Columns in Dete Survey \n",
      " \n",
      " 19 \n",
      "\n",
      "Length of Numerical Value Columns in Tafe Survey \n",
      " \n",
      " 2\n",
      "Length of Categorical Value Columns in Dete Survey \n",
      " \n",
      " 37 \n",
      "\n",
      "Length of Categorical Value Columns in Tafe Survey \n",
      " \n",
      " 70\n"
     ]
    }
   ],
   "source": [
    "print('Length of Numerical Value Columns in Dete Survey','\\n','\\n',len(num_vars_dete),'\\n')\n",
    "print('Length of Numerical Value Columns in Tafe Survey','\\n','\\n',len(num_vars_tafe))\n",
    "print('Length of Categorical Value Columns in Dete Survey','\\n','\\n',len(obj_vars_dete),'\\n')\n",
    "print('Length of Categorical Value Columns in Tafe Survey','\\n','\\n',len(obj_vars_tafe))"
   ]
  },
  {
   "cell_type": "markdown",
   "metadata": {},
   "source": [
    "### Print Missing Numerical and Categorical Values & Percentages in Descending Order in Dete Survey"
   ]
  },
  {
   "cell_type": "code",
   "execution_count": 8,
   "metadata": {},
   "outputs": [
    {
     "name": "stdout",
     "output_type": "stream",
     "text": [
      "Greatest to Least Missing Numerical Values: \n",
      " \n",
      " None of the above                      0\n",
      "Lack of job security                   0\n",
      "Career move to public sector           0\n",
      "Career move to private sector          0\n",
      "Interpersonal conflicts                0\n",
      "Job dissatisfaction                    0\n",
      "Dissatisfaction with the department    0\n",
      "Physical work environment              0\n",
      "Lack of recognition                    0\n",
      "Work location                          0\n",
      "Workload                               0\n",
      "Employment conditions                  0\n",
      "Maternity/family                       0\n",
      "Relocation                             0\n",
      "Study/Travel                           0\n",
      "Ill Health                             0\n",
      "Traumatic incident                     0\n",
      "Work life balance                      0\n",
      "ID                                     0\n",
      "dtype: int64 \n",
      "\n",
      "Greatest to Least Missing Categorical Values: \n",
      " \n",
      " Torres Strait                  819\n",
      "South Sea                      815\n",
      "Aboriginal                     806\n",
      "Disability                     799\n",
      "NESB                           790\n",
      "Business Unit                  696\n",
      "Classification                 367\n",
      "Opportunities for promotion     87\n",
      "Career Aspirations              76\n",
      "Wellness programs               56\n",
      "Coach                           55\n",
      "Further PD                      54\n",
      "Workplace issue                 34\n",
      "Feedback                        30\n",
      "Health & Safety                 29\n",
      "Gender                          24\n",
      "Professional Development        14\n",
      "Stress and pressure support     12\n",
      "Skills                          11\n",
      "Age                             11\n",
      "Peer support                    10\n",
      "My say                          10\n",
      "Initiative                       9\n",
      "Performance of supervisor        9\n",
      "Kept informed                    9\n",
      "Communication                    8\n",
      "Worklife balance                 7\n",
      "Staff morale                     6\n",
      "Information                      6\n",
      "Physical environment             5\n",
      "Employment Status                5\n",
      "Position                         5\n",
      "Region                           0\n",
      "Role Start Date                  0\n",
      "DETE Start Date                  0\n",
      "Cease Date                       0\n",
      "SeparationType                   0\n",
      "dtype: int64 \n",
      "\n",
      "Percentage of Missing Numerical Values: \n",
      " \n",
      " None of the above                      0.0\n",
      "Lack of job security                   0.0\n",
      "Career move to public sector           0.0\n",
      "Career move to private sector          0.0\n",
      "Interpersonal conflicts                0.0\n",
      "Job dissatisfaction                    0.0\n",
      "Dissatisfaction with the department    0.0\n",
      "Physical work environment              0.0\n",
      "Lack of recognition                    0.0\n",
      "Work location                          0.0\n",
      "Workload                               0.0\n",
      "Employment conditions                  0.0\n",
      "Maternity/family                       0.0\n",
      "Relocation                             0.0\n",
      "Study/Travel                           0.0\n",
      "Ill Health                             0.0\n",
      "Traumatic incident                     0.0\n",
      "Work life balance                      0.0\n",
      "ID                                     0.0\n",
      "dtype: float64 \n",
      "\n",
      "Percentage of Missing Categorical Values: \n",
      " \n",
      " Torres Strait                  99.635036\n",
      "South Sea                      99.148418\n",
      "Aboriginal                     98.053528\n",
      "Disability                     97.201946\n",
      "NESB                           96.107056\n",
      "Business Unit                  84.671533\n",
      "Classification                 44.647202\n",
      "Opportunities for promotion    10.583942\n",
      "Career Aspirations              9.245742\n",
      "Wellness programs               6.812652\n",
      "Coach                           6.690998\n",
      "Further PD                      6.569343\n",
      "Workplace issue                 4.136253\n",
      "Feedback                        3.649635\n",
      "Health & Safety                 3.527981\n",
      "Gender                          2.919708\n",
      "Professional Development        1.703163\n",
      "Stress and pressure support     1.459854\n",
      "Skills                          1.338200\n",
      "Age                             1.338200\n",
      "Peer support                    1.216545\n",
      "My say                          1.216545\n",
      "Initiative                      1.094891\n",
      "Performance of supervisor       1.094891\n",
      "Kept informed                   1.094891\n",
      "Communication                   0.973236\n",
      "Worklife balance                0.851582\n",
      "Staff morale                    0.729927\n",
      "Information                     0.729927\n",
      "Physical environment            0.608273\n",
      "Employment Status               0.608273\n",
      "Position                        0.608273\n",
      "Region                          0.000000\n",
      "Role Start Date                 0.000000\n",
      "DETE Start Date                 0.000000\n",
      "Cease Date                      0.000000\n",
      "SeparationType                  0.000000\n",
      "dtype: float64\n"
     ]
    }
   ],
   "source": [
    "print('Greatest to Least Missing Numerical Values:','\\n','\\n',dete_survey[num_vars_dete].isnull().sum().sort_values(ascending = False),'\\n')\n",
    "print('Greatest to Least Missing Categorical Values:','\\n','\\n',dete_survey[obj_vars_dete].isnull().sum().sort_values(ascending = False),'\\n')\n",
    "print('Percentage of Missing Numerical Values:','\\n','\\n',dete_survey[num_vars_dete].isnull().sum().sort_values(ascending = False)/len(dete_survey)*100,'\\n')\n",
    "print('Percentage of Missing Categorical Values:','\\n','\\n',dete_survey[obj_vars_dete].isnull().sum().sort_values(ascending = False)/len(dete_survey)*100)"
   ]
  },
  {
   "cell_type": "markdown",
   "metadata": {},
   "source": [
    "### Print Missing Numerical and Categorical Values & Percentages in Descending Order in Tafe Survey"
   ]
  },
  {
   "cell_type": "code",
   "execution_count": 9,
   "metadata": {},
   "outputs": [
    {
     "name": "stdout",
     "output_type": "stream",
     "text": [
      "Greatest to Least Missing Numerical Values: \n",
      " \n",
      " CESSATION YEAR    7\n",
      "Record ID         0\n",
      "dtype: int64 \n",
      "\n",
      "Greatest to Least Missing Categorical Values: \n",
      " \n",
      " Main Factor. Which of these was the main factor for leaving?                                       589\n",
      "InductionInfo. Topic:Did you undertake a Corporate Induction?                                      270\n",
      "Contributing Factors. Ill Health                                                                   265\n",
      "Contributing Factors. Other                                                                        265\n",
      "Contributing Factors. Maternity/Family                                                             265\n",
      "                                                                                                  ... \n",
      "InstituteViews. Topic:5. I felt the salary for the job was right for the responsibilities I had     87\n",
      "Induction. Did you undertake Workplace Induction?                                                   83\n",
      "Reason for ceasing employment                                                                        1\n",
      "WorkArea                                                                                             0\n",
      "Institute                                                                                            0\n",
      "Length: 70, dtype: int64 \n",
      "\n",
      "Percentage of Missing Numerical Values: \n",
      " \n",
      " CESSATION YEAR    0.997151\n",
      "Record ID         0.000000\n",
      "dtype: float64 \n",
      "\n",
      "Percentage of Missing Categorical Values: \n",
      " \n",
      " Main Factor. Which of these was the main factor for leaving?                                       83.903134\n",
      "InductionInfo. Topic:Did you undertake a Corporate Induction?                                      38.461538\n",
      "Contributing Factors. Ill Health                                                                   37.749288\n",
      "Contributing Factors. Other                                                                        37.749288\n",
      "Contributing Factors. Maternity/Family                                                             37.749288\n",
      "                                                                                                     ...    \n",
      "InstituteViews. Topic:5. I felt the salary for the job was right for the responsibilities I had    12.393162\n",
      "Induction. Did you undertake Workplace Induction?                                                  11.823362\n",
      "Reason for ceasing employment                                                                       0.142450\n",
      "WorkArea                                                                                            0.000000\n",
      "Institute                                                                                           0.000000\n",
      "Length: 70, dtype: float64\n"
     ]
    }
   ],
   "source": [
    "print('Greatest to Least Missing Numerical Values:','\\n','\\n',tafe_survey[num_vars_tafe].isnull().sum().sort_values(ascending = False),'\\n')\n",
    "print('Greatest to Least Missing Categorical Values:','\\n','\\n',tafe_survey[obj_vars_tafe].isnull().sum().sort_values(ascending = False),'\\n')\n",
    "print('Percentage of Missing Numerical Values:','\\n','\\n',tafe_survey[num_vars_tafe].isnull().sum().sort_values(ascending = False)/len(tafe_survey)*100,'\\n')\n",
    "print('Percentage of Missing Categorical Values:','\\n','\\n',tafe_survey[obj_vars_tafe].isnull().sum().sort_values(ascending = False)/len(tafe_survey)*100)"
   ]
  },
  {
   "cell_type": "markdown",
   "metadata": {},
   "source": [
    "### Brief Observation of the data collected "
   ]
  },
  {
   "cell_type": "markdown",
   "metadata": {},
   "source": [
    "**figure out how to get the number of columns with missing values**"
   ]
  },
  {
   "cell_type": "markdown",
   "metadata": {},
   "source": [
    "**DETE SURVEY**\n",
    "\n",
    "- In the Dete Survey DataFrame, 32 out of the 56 columns contain missing values, there are 5674 missing values in total. \n",
    "- There are 19 numerical columns and 37 categorical columns in the Dete Survey DataFrame.\n",
    "- There are multiple columns that reprsent the same thing, but named differently. \n",
    "- Multiple columns that mention dissatiscation with their job, so this is a clear representation that tells us why employees would quit. \n",
    "- Missing Values are represented as 'Not Stated' instead of NaN.\n",
    "\n",
    "**TAFE SURVEY**\n",
    "\n",
    "- In the Tafe Survey DataFrame, [    ] out of the 72 columns contain missing values, there are 9973 missing values in total.\n",
    "- There are numerical columns and 70 categorical value columns in the Tafe Survey DataFrame.\n",
    "- There are multiple columns that represent the same thing, but named differently.\n"
   ]
  },
  {
   "cell_type": "code",
   "execution_count": 10,
   "metadata": {},
   "outputs": [],
   "source": [
    "dete_survey = pd.read_csv('dete_survey.csv',na_values = 'Not Stated')"
   ]
  },
  {
   "cell_type": "markdown",
   "metadata": {},
   "source": [
    "### Sum of the null values in Dete Survey DataFrame "
   ]
  },
  {
   "cell_type": "code",
   "execution_count": 11,
   "metadata": {},
   "outputs": [
    {
     "data": {
      "text/plain": [
       "ID                                       0\n",
       "SeparationType                           0\n",
       "Cease Date                              34\n",
       "DETE Start Date                         73\n",
       "Role Start Date                         98\n",
       "Position                                 5\n",
       "Classification                         367\n",
       "Region                                 105\n",
       "Business Unit                          696\n",
       "Employment Status                        5\n",
       "Career move to public sector             0\n",
       "Career move to private sector            0\n",
       "Interpersonal conflicts                  0\n",
       "Job dissatisfaction                      0\n",
       "Dissatisfaction with the department      0\n",
       "Physical work environment                0\n",
       "Lack of recognition                      0\n",
       "Lack of job security                     0\n",
       "Work location                            0\n",
       "Employment conditions                    0\n",
       "Maternity/family                         0\n",
       "Relocation                               0\n",
       "Study/Travel                             0\n",
       "Ill Health                               0\n",
       "Traumatic incident                       0\n",
       "Work life balance                        0\n",
       "Workload                                 0\n",
       "None of the above                        0\n",
       "Professional Development                14\n",
       "Opportunities for promotion             87\n",
       "Staff morale                             6\n",
       "Workplace issue                         34\n",
       "Physical environment                     5\n",
       "Worklife balance                         7\n",
       "Stress and pressure support             12\n",
       "Performance of supervisor                9\n",
       "Peer support                            10\n",
       "Initiative                               9\n",
       "Skills                                  11\n",
       "Coach                                   55\n",
       "Career Aspirations                      76\n",
       "Feedback                                30\n",
       "Further PD                              54\n",
       "Communication                            8\n",
       "My say                                  10\n",
       "Information                              6\n",
       "Kept informed                            9\n",
       "Wellness programs                       56\n",
       "Health & Safety                         29\n",
       "Gender                                  24\n",
       "Age                                     11\n",
       "Aboriginal                             806\n",
       "Torres Strait                          819\n",
       "South Sea                              815\n",
       "Disability                             799\n",
       "NESB                                   790\n",
       "dtype: int64"
      ]
     },
     "execution_count": 11,
     "metadata": {},
     "output_type": "execute_result"
    }
   ],
   "source": [
    "dete_survey.isnull().sum()"
   ]
  },
  {
   "cell_type": "markdown",
   "metadata": {},
   "source": [
    "### Sum of the null values in Tafe Survey DataFrame "
   ]
  },
  {
   "cell_type": "code",
   "execution_count": 12,
   "metadata": {},
   "outputs": [
    {
     "data": {
      "text/plain": [
       "Record ID                                                                      0\n",
       "Institute                                                                      0\n",
       "WorkArea                                                                       0\n",
       "CESSATION YEAR                                                                 7\n",
       "Reason for ceasing employment                                                  1\n",
       "                                                                            ... \n",
       "CurrentAge. Current Age                                                      106\n",
       "Employment Type. Employment Type                                             106\n",
       "Classification. Classification                                               106\n",
       "LengthofServiceOverall. Overall Length of Service at Institute (in years)    106\n",
       "LengthofServiceCurrent. Length of Service at current workplace (in years)    106\n",
       "Length: 72, dtype: int64"
      ]
     },
     "execution_count": 12,
     "metadata": {},
     "output_type": "execute_result"
    }
   ],
   "source": [
    "tafe_survey.isnull().sum()"
   ]
  },
  {
   "cell_type": "code",
   "execution_count": 13,
   "metadata": {},
   "outputs": [],
   "source": [
    "dete_survey_updated = dete_survey.drop(columns = dete_survey.columns[28:49])\n",
    "tafe_survey_updated = tafe_survey.drop(columns = tafe_survey.columns[17:66])"
   ]
  },
  {
   "cell_type": "markdown",
   "metadata": {},
   "source": [
    "**figure out how to see all columns in tafe survey**"
   ]
  },
  {
   "cell_type": "code",
   "execution_count": 14,
   "metadata": {},
   "outputs": [
    {
     "data": {
      "text/plain": [
       "Index(['ID', 'SeparationType', 'Cease Date', 'DETE Start Date',\n",
       "       'Role Start Date', 'Position', 'Classification', 'Region',\n",
       "       'Business Unit', 'Employment Status', 'Career move to public sector',\n",
       "       'Career move to private sector', 'Interpersonal conflicts',\n",
       "       'Job dissatisfaction', 'Dissatisfaction with the department',\n",
       "       'Physical work environment', 'Lack of recognition',\n",
       "       'Lack of job security', 'Work location', 'Employment conditions',\n",
       "       'Maternity/family', 'Relocation', 'Study/Travel', 'Ill Health',\n",
       "       'Traumatic incident', 'Work life balance', 'Workload',\n",
       "       'None of the above', 'Gender', 'Age', 'Aboriginal', 'Torres Strait',\n",
       "       'South Sea', 'Disability', 'NESB'],\n",
       "      dtype='object')"
      ]
     },
     "execution_count": 14,
     "metadata": {},
     "output_type": "execute_result"
    }
   ],
   "source": [
    "dete_survey_updated.columns"
   ]
  },
  {
   "cell_type": "markdown",
   "metadata": {},
   "source": [
    "### Clean Dete Survey columns "
   ]
  },
  {
   "cell_type": "code",
   "execution_count": 15,
   "metadata": {},
   "outputs": [
    {
     "data": {
      "text/plain": [
       "Index(['id', 'separationtype', 'cease_date', 'dete_start_date',\n",
       "       'role_start_date', 'position', 'classification', 'region',\n",
       "       'business_unit', 'employment_status', 'career_move_to_public_sector',\n",
       "       'career_move_to_private_sector', 'interpersonal_conflicts',\n",
       "       'job_dissatisfaction', 'dissatisfaction_with_the_department',\n",
       "       'physical_work_environment', 'lack_of_recognition',\n",
       "       'lack_of_job_security', 'work_location', 'employment_conditions',\n",
       "       'maternity/family', 'relocation', 'study/travel', 'ill_health',\n",
       "       'traumatic_incident', 'work_life_balance', 'workload',\n",
       "       'none_of_the_above', 'gender', 'age', 'aboriginal', 'torres_strait',\n",
       "       'south_sea', 'disability', 'nesb'],\n",
       "      dtype='object')"
      ]
     },
     "execution_count": 15,
     "metadata": {},
     "output_type": "execute_result"
    }
   ],
   "source": [
    "dete_survey_updated.columns = dete_survey_updated.columns.str.lower().str.strip().str.replace(' ','_')\n",
    "dete_survey_updated.columns"
   ]
  },
  {
   "cell_type": "code",
   "execution_count": 16,
   "metadata": {},
   "outputs": [
    {
     "data": {
      "text/plain": [
       "Index(['Record ID', 'Institute', 'WorkArea', 'CESSATION YEAR',\n",
       "       'Reason for ceasing employment',\n",
       "       'Contributing Factors. Career Move - Public Sector ',\n",
       "       'Contributing Factors. Career Move - Private Sector ',\n",
       "       'Contributing Factors. Career Move - Self-employment',\n",
       "       'Contributing Factors. Ill Health',\n",
       "       'Contributing Factors. Maternity/Family',\n",
       "       'Contributing Factors. Dissatisfaction',\n",
       "       'Contributing Factors. Job Dissatisfaction',\n",
       "       'Contributing Factors. Interpersonal Conflict',\n",
       "       'Contributing Factors. Study', 'Contributing Factors. Travel',\n",
       "       'Contributing Factors. Other', 'Contributing Factors. NONE',\n",
       "       'Gender. What is your Gender?', 'CurrentAge. Current Age',\n",
       "       'Employment Type. Employment Type', 'Classification. Classification',\n",
       "       'LengthofServiceOverall. Overall Length of Service at Institute (in years)',\n",
       "       'LengthofServiceCurrent. Length of Service at current workplace (in years)'],\n",
       "      dtype='object')"
      ]
     },
     "execution_count": 16,
     "metadata": {},
     "output_type": "execute_result"
    }
   ],
   "source": [
    "tafe_survey_updated.columns"
   ]
  },
  {
   "cell_type": "markdown",
   "metadata": {},
   "source": [
    "**Mapping Dictionary**"
   ]
  },
  {
   "cell_type": "code",
   "execution_count": 17,
   "metadata": {},
   "outputs": [],
   "source": [
    "mapping = {'Record ID': 'id','CESSATION YEAR':'cease_date','Reason for ceasing employment': 'separationtype','Gender. What is your Gender?': 'gender','CurrentAge. Current Age': 'age','Employment Type. Employment Type': 'employment_status','Classification. Classification': 'position','LengthofServiceOverall. Overall Length of Service at Institute (in years)': 'institute_service','LengthofServiceCurrent. Length of Service at current workplace (in years)': 'role_service'}"
   ]
  },
  {
   "cell_type": "markdown",
   "metadata": {},
   "source": [
    "### Update the Tafe Survey column names using the mapping dictionary"
   ]
  },
  {
   "cell_type": "code",
   "execution_count": 18,
   "metadata": {
    "scrolled": true
   },
   "outputs": [],
   "source": [
    "tafe_survey_updated.rename(columns = mapping,inplace = True)"
   ]
  },
  {
   "cell_type": "code",
   "execution_count": 19,
   "metadata": {},
   "outputs": [
    {
     "data": {
      "text/plain": [
       "Index(['id', 'Institute', 'WorkArea', 'cease_date', 'separationtype',\n",
       "       'Contributing Factors. Career Move - Public Sector ',\n",
       "       'Contributing Factors. Career Move - Private Sector ',\n",
       "       'Contributing Factors. Career Move - Self-employment',\n",
       "       'Contributing Factors. Ill Health',\n",
       "       'Contributing Factors. Maternity/Family',\n",
       "       'Contributing Factors. Dissatisfaction',\n",
       "       'Contributing Factors. Job Dissatisfaction',\n",
       "       'Contributing Factors. Interpersonal Conflict',\n",
       "       'Contributing Factors. Study', 'Contributing Factors. Travel',\n",
       "       'Contributing Factors. Other', 'Contributing Factors. NONE', 'gender',\n",
       "       'age', 'employment_status', 'position', 'institute_service',\n",
       "       'role_service'],\n",
       "      dtype='object')"
      ]
     },
     "execution_count": 19,
     "metadata": {},
     "output_type": "execute_result"
    }
   ],
   "source": [
    "tafe_survey_updated.columns"
   ]
  },
  {
   "cell_type": "markdown",
   "metadata": {},
   "source": [
    "### "
   ]
  },
  {
   "cell_type": "code",
   "execution_count": 20,
   "metadata": {},
   "outputs": [
    {
     "data": {
      "text/plain": [
       "Age Retirement                          285\n",
       "Resignation-Other reasons               150\n",
       "Resignation-Other employer               91\n",
       "Resignation-Move overseas/interstate     70\n",
       "Voluntary Early Retirement (VER)         67\n",
       "Ill Health Retirement                    61\n",
       "Other                                    49\n",
       "Contract Expired                         34\n",
       "Termination                              15\n",
       "Name: separationtype, dtype: int64"
      ]
     },
     "execution_count": 20,
     "metadata": {},
     "output_type": "execute_result"
    }
   ],
   "source": [
    "dete_survey_updated['separationtype'].value_counts()"
   ]
  },
  {
   "cell_type": "code",
   "execution_count": 21,
   "metadata": {},
   "outputs": [
    {
     "data": {
      "text/plain": [
       "Resignation                 340\n",
       "Contract Expired            127\n",
       "Retrenchment/ Redundancy    104\n",
       "Retirement                   82\n",
       "Transfer                     25\n",
       "Termination                  23\n",
       "Name: separationtype, dtype: int64"
      ]
     },
     "execution_count": 21,
     "metadata": {},
     "output_type": "execute_result"
    }
   ],
   "source": [
    "tafe_survey_updated['separationtype'].value_counts()"
   ]
  },
  {
   "cell_type": "markdown",
   "metadata": {},
   "source": [
    "### Retrieve only data who has 'Resignation' in the 'seperationtype'"
   ]
  },
  {
   "cell_type": "code",
   "execution_count": 22,
   "metadata": {},
   "outputs": [
    {
     "name": "stdout",
     "output_type": "stream",
     "text": [
      "<class 'pandas.core.frame.DataFrame'>\n",
      "Int64Index: 311 entries, 3 to 821\n",
      "Data columns (total 35 columns):\n",
      " #   Column                               Non-Null Count  Dtype  \n",
      "---  ------                               --------------  -----  \n",
      " 0   id                                   311 non-null    int64  \n",
      " 1   separationtype                       311 non-null    object \n",
      " 2   cease_date                           300 non-null    object \n",
      " 3   dete_start_date                      283 non-null    float64\n",
      " 4   role_start_date                      271 non-null    float64\n",
      " 5   position                             308 non-null    object \n",
      " 6   classification                       161 non-null    object \n",
      " 7   region                               265 non-null    object \n",
      " 8   business_unit                        32 non-null     object \n",
      " 9   employment_status                    307 non-null    object \n",
      " 10  career_move_to_public_sector         311 non-null    bool   \n",
      " 11  career_move_to_private_sector        311 non-null    bool   \n",
      " 12  interpersonal_conflicts              311 non-null    bool   \n",
      " 13  job_dissatisfaction                  311 non-null    bool   \n",
      " 14  dissatisfaction_with_the_department  311 non-null    bool   \n",
      " 15  physical_work_environment            311 non-null    bool   \n",
      " 16  lack_of_recognition                  311 non-null    bool   \n",
      " 17  lack_of_job_security                 311 non-null    bool   \n",
      " 18  work_location                        311 non-null    bool   \n",
      " 19  employment_conditions                311 non-null    bool   \n",
      " 20  maternity/family                     311 non-null    bool   \n",
      " 21  relocation                           311 non-null    bool   \n",
      " 22  study/travel                         311 non-null    bool   \n",
      " 23  ill_health                           311 non-null    bool   \n",
      " 24  traumatic_incident                   311 non-null    bool   \n",
      " 25  work_life_balance                    311 non-null    bool   \n",
      " 26  workload                             311 non-null    bool   \n",
      " 27  none_of_the_above                    311 non-null    bool   \n",
      " 28  gender                               302 non-null    object \n",
      " 29  age                                  306 non-null    object \n",
      " 30  aboriginal                           7 non-null      object \n",
      " 31  torres_strait                        0 non-null      object \n",
      " 32  south_sea                            3 non-null      object \n",
      " 33  disability                           8 non-null      object \n",
      " 34  nesb                                 9 non-null      object \n",
      "dtypes: bool(18), float64(2), int64(1), object(14)\n",
      "memory usage: 49.2+ KB\n",
      "None\n",
      "    id                        separationtype cease_date  dete_start_date  \\\n",
      "3    4             Resignation-Other reasons    05/2012           2005.0   \n",
      "5    6             Resignation-Other reasons    05/2012           1994.0   \n",
      "8    9             Resignation-Other reasons    07/2012           2009.0   \n",
      "9   10            Resignation-Other employer       2012           1997.0   \n",
      "11  12  Resignation-Move overseas/interstate       2012           2009.0   \n",
      "\n",
      "    role_start_date          position classification                region  \\\n",
      "3            2006.0           Teacher        Primary    Central Queensland   \n",
      "5            1997.0  Guidance Officer            NaN        Central Office   \n",
      "8            2009.0           Teacher      Secondary      North Queensland   \n",
      "9            2008.0      Teacher Aide            NaN                   NaN   \n",
      "11           2009.0           Teacher      Secondary  Far North Queensland   \n",
      "\n",
      "           business_unit    employment_status  ...  work_life_balance  \\\n",
      "3                    NaN  Permanent Full-time  ...              False   \n",
      "5   Education Queensland  Permanent Full-time  ...              False   \n",
      "8                    NaN  Permanent Full-time  ...              False   \n",
      "9                    NaN  Permanent Part-time  ...              False   \n",
      "11                   NaN  Permanent Full-time  ...              False   \n",
      "\n",
      "    workload  none_of_the_above  gender    age  aboriginal  torres_strait  \\\n",
      "3      False              False  Female  36-40         NaN            NaN   \n",
      "5      False              False  Female  41-45         NaN            NaN   \n",
      "8      False              False  Female  31-35         NaN            NaN   \n",
      "9      False              False  Female  46-50         NaN            NaN   \n",
      "11     False              False    Male  31-35         NaN            NaN   \n",
      "\n",
      "    south_sea  disability  nesb  \n",
      "3         NaN         NaN   NaN  \n",
      "5         NaN         NaN   NaN  \n",
      "8         NaN         NaN   NaN  \n",
      "9         NaN         NaN   NaN  \n",
      "11        NaN         NaN   NaN  \n",
      "\n",
      "[5 rows x 35 columns]\n",
      "\n",
      "\n",
      "<class 'pandas.core.frame.DataFrame'>\n",
      "Int64Index: 340 entries, 3 to 701\n",
      "Data columns (total 23 columns):\n",
      " #   Column                                               Non-Null Count  Dtype  \n",
      "---  ------                                               --------------  -----  \n",
      " 0   id                                                   340 non-null    float64\n",
      " 1   Institute                                            340 non-null    object \n",
      " 2   WorkArea                                             340 non-null    object \n",
      " 3   cease_date                                           335 non-null    float64\n",
      " 4   separationtype                                       340 non-null    object \n",
      " 5   Contributing Factors. Career Move - Public Sector    332 non-null    object \n",
      " 6   Contributing Factors. Career Move - Private Sector   332 non-null    object \n",
      " 7   Contributing Factors. Career Move - Self-employment  332 non-null    object \n",
      " 8   Contributing Factors. Ill Health                     332 non-null    object \n",
      " 9   Contributing Factors. Maternity/Family               332 non-null    object \n",
      " 10  Contributing Factors. Dissatisfaction                332 non-null    object \n",
      " 11  Contributing Factors. Job Dissatisfaction            332 non-null    object \n",
      " 12  Contributing Factors. Interpersonal Conflict         332 non-null    object \n",
      " 13  Contributing Factors. Study                          332 non-null    object \n",
      " 14  Contributing Factors. Travel                         332 non-null    object \n",
      " 15  Contributing Factors. Other                          332 non-null    object \n",
      " 16  Contributing Factors. NONE                           332 non-null    object \n",
      " 17  gender                                               290 non-null    object \n",
      " 18  age                                                  290 non-null    object \n",
      " 19  employment_status                                    290 non-null    object \n",
      " 20  position                                             290 non-null    object \n",
      " 21  institute_service                                    290 non-null    object \n",
      " 22  role_service                                         290 non-null    object \n",
      "dtypes: float64(2), object(21)\n",
      "memory usage: 63.8+ KB\n",
      "None\n",
      "    id                        separationtype cease_date  dete_start_date  \\\n",
      "3    4             Resignation-Other reasons    05/2012           2005.0   \n",
      "5    6             Resignation-Other reasons    05/2012           1994.0   \n",
      "8    9             Resignation-Other reasons    07/2012           2009.0   \n",
      "9   10            Resignation-Other employer       2012           1997.0   \n",
      "11  12  Resignation-Move overseas/interstate       2012           2009.0   \n",
      "\n",
      "    role_start_date          position classification                region  \\\n",
      "3            2006.0           Teacher        Primary    Central Queensland   \n",
      "5            1997.0  Guidance Officer            NaN        Central Office   \n",
      "8            2009.0           Teacher      Secondary      North Queensland   \n",
      "9            2008.0      Teacher Aide            NaN                   NaN   \n",
      "11           2009.0           Teacher      Secondary  Far North Queensland   \n",
      "\n",
      "           business_unit    employment_status  ...  work_life_balance  \\\n",
      "3                    NaN  Permanent Full-time  ...              False   \n",
      "5   Education Queensland  Permanent Full-time  ...              False   \n",
      "8                    NaN  Permanent Full-time  ...              False   \n",
      "9                    NaN  Permanent Part-time  ...              False   \n",
      "11                   NaN  Permanent Full-time  ...              False   \n",
      "\n",
      "    workload  none_of_the_above  gender    age  aboriginal  torres_strait  \\\n",
      "3      False              False  Female  36-40         NaN            NaN   \n",
      "5      False              False  Female  41-45         NaN            NaN   \n",
      "8      False              False  Female  31-35         NaN            NaN   \n",
      "9      False              False  Female  46-50         NaN            NaN   \n",
      "11     False              False    Male  31-35         NaN            NaN   \n",
      "\n",
      "    south_sea  disability  nesb  \n",
      "3         NaN         NaN   NaN  \n",
      "5         NaN         NaN   NaN  \n",
      "8         NaN         NaN   NaN  \n",
      "9         NaN         NaN   NaN  \n",
      "11        NaN         NaN   NaN  \n",
      "\n",
      "[5 rows x 35 columns]\n"
     ]
    }
   ],
   "source": [
    "dete_resignations = dete_survey_updated.copy()[dete_survey_updated['separationtype'].str.contains('Resignation')]\n",
    "tafe_resignations = tafe_survey_updated.copy()[tafe_survey_updated['separationtype'].str.contains('Resignation', na = False)]\n",
    "\n",
    "print(dete_resignations.info())\n",
    "print(dete_resignations.head())\n",
    "print('\\n')\n",
    "print(tafe_resignations.info())\n",
    "print(dete_resignations.head())"
   ]
  },
  {
   "cell_type": "code",
   "execution_count": 23,
   "metadata": {},
   "outputs": [
    {
     "name": "stdout",
     "output_type": "stream",
     "text": [
      "DETE resignation dates\n",
      "2012       126\n",
      "2013        74\n",
      "01/2014     22\n",
      "12/2013     17\n",
      "06/2013     14\n",
      "09/2013     11\n",
      "11/2013      9\n",
      "07/2013      9\n",
      "10/2013      6\n",
      "08/2013      4\n",
      "05/2012      2\n",
      "05/2013      2\n",
      "09/2010      1\n",
      "07/2012      1\n",
      "2010         1\n",
      "07/2006      1\n",
      "Name: cease_date, dtype: int64\n",
      "\n",
      "\n",
      "DETE start dates\n",
      "2013.0    10\n",
      "2012.0    21\n",
      "2011.0    24\n",
      "2010.0    17\n",
      "2009.0    13\n",
      "2008.0    22\n",
      "2007.0    21\n",
      "2006.0    13\n",
      "2005.0    15\n",
      "2004.0    14\n",
      "2003.0     6\n",
      "2002.0     6\n",
      "2001.0     3\n",
      "2000.0     9\n",
      "1999.0     8\n",
      "1998.0     6\n",
      "1997.0     5\n",
      "1996.0     6\n",
      "1995.0     4\n",
      "1994.0     6\n",
      "1993.0     5\n",
      "1992.0     6\n",
      "1991.0     4\n",
      "1990.0     5\n",
      "1989.0     4\n",
      "1988.0     4\n",
      "1987.0     1\n",
      "1986.0     3\n",
      "1985.0     3\n",
      "1984.0     1\n",
      "1983.0     2\n",
      "1982.0     1\n",
      "1980.0     5\n",
      "1977.0     1\n",
      "1976.0     2\n",
      "1975.0     1\n",
      "1974.0     2\n",
      "1973.0     1\n",
      "1972.0     1\n",
      "1971.0     1\n",
      "1963.0     1\n",
      "Name: dete_start_date, dtype: int64\n",
      "\n",
      "\n",
      "TAFE resignation dates\n",
      "2011.0    116\n",
      "2012.0     94\n",
      "2010.0     68\n",
      "2013.0     55\n",
      "2009.0      2\n",
      "Name: cease_date, dtype: int64\n"
     ]
    }
   ],
   "source": [
    "print('DETE resignation dates')\n",
    "print(dete_resignations['cease_date'].value_counts())\n",
    "print('\\n')\n",
    "print('DETE start dates')\n",
    "print(dete_resignations['dete_start_date'].value_counts().sort_index(ascending = False))\n",
    "print('\\n')\n",
    "print('TAFE resignation dates')\n",
    "print(tafe_resignations['cease_date'].value_counts())"
   ]
  },
  {
   "cell_type": "markdown",
   "metadata": {},
   "source": [
    "write an observation of the changes and why I made them "
   ]
  },
  {
   "cell_type": "code",
   "execution_count": 24,
   "metadata": {},
   "outputs": [
    {
     "data": {
      "text/plain": [
       "2012       126\n",
       "2013        74\n",
       "01/2014     22\n",
       "12/2013     17\n",
       "06/2013     14\n",
       "09/2013     11\n",
       "11/2013      9\n",
       "07/2013      9\n",
       "10/2013      6\n",
       "08/2013      4\n",
       "05/2012      2\n",
       "05/2013      2\n",
       "09/2010      1\n",
       "07/2012      1\n",
       "2010         1\n",
       "07/2006      1\n",
       "Name: cease_date, dtype: int64"
      ]
     },
     "execution_count": 24,
     "metadata": {},
     "output_type": "execute_result"
    }
   ],
   "source": [
    "dete_resignations['cease_date'].value_counts()"
   ]
  },
  {
   "cell_type": "markdown",
   "metadata": {},
   "source": [
    "### Extract year from 'cease_date' Series"
   ]
  },
  {
   "cell_type": "code",
   "execution_count": 25,
   "metadata": {},
   "outputs": [
    {
     "name": "stdout",
     "output_type": "stream",
     "text": [
      "    id                        separationtype  cease_date  dete_start_date  \\\n",
      "3    4             Resignation-Other reasons      2012.0           2005.0   \n",
      "5    6             Resignation-Other reasons      2012.0           1994.0   \n",
      "8    9             Resignation-Other reasons      2012.0           2009.0   \n",
      "9   10            Resignation-Other employer      2012.0           1997.0   \n",
      "11  12  Resignation-Move overseas/interstate      2012.0           2009.0   \n",
      "\n",
      "    role_start_date          position classification                region  \\\n",
      "3            2006.0           Teacher        Primary    Central Queensland   \n",
      "5            1997.0  Guidance Officer            NaN        Central Office   \n",
      "8            2009.0           Teacher      Secondary      North Queensland   \n",
      "9            2008.0      Teacher Aide            NaN                   NaN   \n",
      "11           2009.0           Teacher      Secondary  Far North Queensland   \n",
      "\n",
      "           business_unit    employment_status  ...  work_life_balance  \\\n",
      "3                    NaN  Permanent Full-time  ...              False   \n",
      "5   Education Queensland  Permanent Full-time  ...              False   \n",
      "8                    NaN  Permanent Full-time  ...              False   \n",
      "9                    NaN  Permanent Part-time  ...              False   \n",
      "11                   NaN  Permanent Full-time  ...              False   \n",
      "\n",
      "    workload  none_of_the_above  gender    age  aboriginal  torres_strait  \\\n",
      "3      False              False  Female  36-40         NaN            NaN   \n",
      "5      False              False  Female  41-45         NaN            NaN   \n",
      "8      False              False  Female  31-35         NaN            NaN   \n",
      "9      False              False  Female  46-50         NaN            NaN   \n",
      "11     False              False    Male  31-35         NaN            NaN   \n",
      "\n",
      "    south_sea  disability  nesb  \n",
      "3         NaN         NaN   NaN  \n",
      "5         NaN         NaN   NaN  \n",
      "8         NaN         NaN   NaN  \n",
      "9         NaN         NaN   NaN  \n",
      "11        NaN         NaN   NaN  \n",
      "\n",
      "[5 rows x 35 columns]\n"
     ]
    }
   ],
   "source": [
    "# print(dete_resignations[\"cease_date\"].value_counts(dropna = False))\n",
    "\n",
    "pattern = r\"(?P<Years>[1-2][0-9]{3})\"\n",
    "#r\"([1-2][0-9]{3})\"\n",
    "dete_resignations['cease_date'] = dete_resignations['cease_date'].str.extract(pattern).astype(float)\n",
    "#print(resig_years)\n",
    "\n",
    "print(dete_resignations.head())"
   ]
  },
  {
   "cell_type": "code",
   "execution_count": 26,
   "metadata": {},
   "outputs": [
    {
     "name": "stdout",
     "output_type": "stream",
     "text": [
      "ORIGINAL \n",
      " \n",
      " 3      2012.0\n",
      "5      2012.0\n",
      "8      2012.0\n",
      "9      2012.0\n",
      "11     2012.0\n",
      "        ...  \n",
      "808    2013.0\n",
      "815    2014.0\n",
      "816    2014.0\n",
      "819    2014.0\n",
      "821    2013.0\n",
      "Name: cease_date, Length: 311, dtype: float64 \n",
      "\n"
     ]
    },
    {
     "ename": "AttributeError",
     "evalue": "Can only use .str accessor with string values!",
     "output_type": "error",
     "traceback": [
      "\u001b[0;31m---------------------------------------------------------------------------\u001b[0m",
      "\u001b[0;31mAttributeError\u001b[0m                            Traceback (most recent call last)",
      "\u001b[0;32m<ipython-input-26-2d6946057c66>\u001b[0m in \u001b[0;36m<module>\u001b[0;34m\u001b[0m\n\u001b[1;32m      1\u001b[0m \u001b[0mprint\u001b[0m\u001b[0;34m(\u001b[0m\u001b[0;34m'ORIGINAL'\u001b[0m\u001b[0;34m,\u001b[0m\u001b[0;34m'\\n'\u001b[0m\u001b[0;34m,\u001b[0m\u001b[0;34m'\\n'\u001b[0m\u001b[0;34m,\u001b[0m\u001b[0mdete_resignations\u001b[0m\u001b[0;34m[\u001b[0m\u001b[0;34m'cease_date'\u001b[0m\u001b[0;34m]\u001b[0m\u001b[0;34m,\u001b[0m\u001b[0;34m'\\n'\u001b[0m\u001b[0;34m)\u001b[0m\u001b[0;34m\u001b[0m\u001b[0;34m\u001b[0m\u001b[0m\n\u001b[0;32m----> 2\u001b[0;31m \u001b[0mprint\u001b[0m\u001b[0;34m(\u001b[0m\u001b[0;34m'ORIGINAL SPLIT'\u001b[0m\u001b[0;34m,\u001b[0m\u001b[0;34m'\\n'\u001b[0m\u001b[0;34m,\u001b[0m\u001b[0;34m'\\n'\u001b[0m\u001b[0;34m,\u001b[0m\u001b[0mdete_resignations\u001b[0m\u001b[0;34m[\u001b[0m\u001b[0;34m'cease_date'\u001b[0m\u001b[0;34m]\u001b[0m\u001b[0;34m.\u001b[0m\u001b[0mstr\u001b[0m\u001b[0;34m.\u001b[0m\u001b[0msplit\u001b[0m\u001b[0;34m(\u001b[0m\u001b[0;34m'/'\u001b[0m\u001b[0;34m)\u001b[0m\u001b[0;34m,\u001b[0m\u001b[0;34m'\\n'\u001b[0m\u001b[0;34m)\u001b[0m\u001b[0;34m\u001b[0m\u001b[0;34m\u001b[0m\u001b[0m\n\u001b[0m\u001b[1;32m      3\u001b[0m \u001b[0mprint\u001b[0m\u001b[0;34m(\u001b[0m\u001b[0;34m'UPDATED'\u001b[0m\u001b[0;34m,\u001b[0m\u001b[0;34m'\\n'\u001b[0m\u001b[0;34m,\u001b[0m\u001b[0;34m'\\n'\u001b[0m\u001b[0;34m,\u001b[0m\u001b[0mdete_resignations\u001b[0m\u001b[0;34m[\u001b[0m\u001b[0;34m'cease_date'\u001b[0m\u001b[0;34m]\u001b[0m\u001b[0;34m.\u001b[0m\u001b[0mstr\u001b[0m\u001b[0;34m.\u001b[0m\u001b[0msplit\u001b[0m\u001b[0;34m(\u001b[0m\u001b[0;34m'/'\u001b[0m\u001b[0;34m)\u001b[0m\u001b[0;34m.\u001b[0m\u001b[0mstr\u001b[0m\u001b[0;34m.\u001b[0m\u001b[0mget\u001b[0m\u001b[0;34m(\u001b[0m\u001b[0;34m-\u001b[0m\u001b[0;36m1\u001b[0m\u001b[0;34m)\u001b[0m\u001b[0;34m,\u001b[0m\u001b[0;34m'\\n'\u001b[0m\u001b[0;34m)\u001b[0m\u001b[0;34m\u001b[0m\u001b[0;34m\u001b[0m\u001b[0m\n\u001b[1;32m      4\u001b[0m \u001b[0mdete_resignations\u001b[0m\u001b[0;34m[\u001b[0m\u001b[0;34m'cease_date'\u001b[0m\u001b[0;34m]\u001b[0m \u001b[0;34m=\u001b[0m \u001b[0mdete_resignations\u001b[0m\u001b[0;34m[\u001b[0m\u001b[0;34m'cease_date'\u001b[0m\u001b[0;34m]\u001b[0m\u001b[0;34m.\u001b[0m\u001b[0mstr\u001b[0m\u001b[0;34m.\u001b[0m\u001b[0msplit\u001b[0m\u001b[0;34m(\u001b[0m\u001b[0;34m'/'\u001b[0m\u001b[0;34m)\u001b[0m\u001b[0;34m.\u001b[0m\u001b[0mstr\u001b[0m\u001b[0;34m.\u001b[0m\u001b[0mget\u001b[0m\u001b[0;34m(\u001b[0m\u001b[0;34m-\u001b[0m\u001b[0;36m1\u001b[0m\u001b[0;34m)\u001b[0m\u001b[0;34m.\u001b[0m\u001b[0mastype\u001b[0m\u001b[0;34m(\u001b[0m\u001b[0mfloat\u001b[0m\u001b[0;34m)\u001b[0m\u001b[0;34m\u001b[0m\u001b[0;34m\u001b[0m\u001b[0m\n",
      "\u001b[0;32m/dataquest/system/env/python3/lib/python3.8/site-packages/pandas/core/generic.py\u001b[0m in \u001b[0;36m__getattr__\u001b[0;34m(self, name)\u001b[0m\n\u001b[1;32m   5268\u001b[0m             \u001b[0;32mor\u001b[0m \u001b[0mname\u001b[0m \u001b[0;32min\u001b[0m \u001b[0mself\u001b[0m\u001b[0;34m.\u001b[0m\u001b[0m_accessors\u001b[0m\u001b[0;34m\u001b[0m\u001b[0;34m\u001b[0m\u001b[0m\n\u001b[1;32m   5269\u001b[0m         ):\n\u001b[0;32m-> 5270\u001b[0;31m             \u001b[0;32mreturn\u001b[0m \u001b[0mobject\u001b[0m\u001b[0;34m.\u001b[0m\u001b[0m__getattribute__\u001b[0m\u001b[0;34m(\u001b[0m\u001b[0mself\u001b[0m\u001b[0;34m,\u001b[0m \u001b[0mname\u001b[0m\u001b[0;34m)\u001b[0m\u001b[0;34m\u001b[0m\u001b[0;34m\u001b[0m\u001b[0m\n\u001b[0m\u001b[1;32m   5271\u001b[0m         \u001b[0;32melse\u001b[0m\u001b[0;34m:\u001b[0m\u001b[0;34m\u001b[0m\u001b[0;34m\u001b[0m\u001b[0m\n\u001b[1;32m   5272\u001b[0m             \u001b[0;32mif\u001b[0m \u001b[0mself\u001b[0m\u001b[0;34m.\u001b[0m\u001b[0m_info_axis\u001b[0m\u001b[0;34m.\u001b[0m\u001b[0m_can_hold_identifiers_and_holds_name\u001b[0m\u001b[0;34m(\u001b[0m\u001b[0mname\u001b[0m\u001b[0;34m)\u001b[0m\u001b[0;34m:\u001b[0m\u001b[0;34m\u001b[0m\u001b[0;34m\u001b[0m\u001b[0m\n",
      "\u001b[0;32m/dataquest/system/env/python3/lib/python3.8/site-packages/pandas/core/accessor.py\u001b[0m in \u001b[0;36m__get__\u001b[0;34m(self, obj, cls)\u001b[0m\n\u001b[1;32m    185\u001b[0m             \u001b[0;31m# we're accessing the attribute of the class, i.e., Dataset.geo\u001b[0m\u001b[0;34m\u001b[0m\u001b[0;34m\u001b[0m\u001b[0;34m\u001b[0m\u001b[0m\n\u001b[1;32m    186\u001b[0m             \u001b[0;32mreturn\u001b[0m \u001b[0mself\u001b[0m\u001b[0;34m.\u001b[0m\u001b[0m_accessor\u001b[0m\u001b[0;34m\u001b[0m\u001b[0;34m\u001b[0m\u001b[0m\n\u001b[0;32m--> 187\u001b[0;31m         \u001b[0maccessor_obj\u001b[0m \u001b[0;34m=\u001b[0m \u001b[0mself\u001b[0m\u001b[0;34m.\u001b[0m\u001b[0m_accessor\u001b[0m\u001b[0;34m(\u001b[0m\u001b[0mobj\u001b[0m\u001b[0;34m)\u001b[0m\u001b[0;34m\u001b[0m\u001b[0;34m\u001b[0m\u001b[0m\n\u001b[0m\u001b[1;32m    188\u001b[0m         \u001b[0;31m# Replace the property with the accessor object. Inspired by:\u001b[0m\u001b[0;34m\u001b[0m\u001b[0;34m\u001b[0m\u001b[0;34m\u001b[0m\u001b[0m\n\u001b[1;32m    189\u001b[0m         \u001b[0;31m# http://www.pydanny.com/cached-property.html\u001b[0m\u001b[0;34m\u001b[0m\u001b[0;34m\u001b[0m\u001b[0;34m\u001b[0m\u001b[0m\n",
      "\u001b[0;32m/dataquest/system/env/python3/lib/python3.8/site-packages/pandas/core/strings.py\u001b[0m in \u001b[0;36m__init__\u001b[0;34m(self, data)\u001b[0m\n\u001b[1;32m   2039\u001b[0m \u001b[0;34m\u001b[0m\u001b[0m\n\u001b[1;32m   2040\u001b[0m     \u001b[0;32mdef\u001b[0m \u001b[0m__init__\u001b[0m\u001b[0;34m(\u001b[0m\u001b[0mself\u001b[0m\u001b[0;34m,\u001b[0m \u001b[0mdata\u001b[0m\u001b[0;34m)\u001b[0m\u001b[0;34m:\u001b[0m\u001b[0;34m\u001b[0m\u001b[0;34m\u001b[0m\u001b[0m\n\u001b[0;32m-> 2041\u001b[0;31m         \u001b[0mself\u001b[0m\u001b[0;34m.\u001b[0m\u001b[0m_inferred_dtype\u001b[0m \u001b[0;34m=\u001b[0m \u001b[0mself\u001b[0m\u001b[0;34m.\u001b[0m\u001b[0m_validate\u001b[0m\u001b[0;34m(\u001b[0m\u001b[0mdata\u001b[0m\u001b[0;34m)\u001b[0m\u001b[0;34m\u001b[0m\u001b[0;34m\u001b[0m\u001b[0m\n\u001b[0m\u001b[1;32m   2042\u001b[0m         \u001b[0mself\u001b[0m\u001b[0;34m.\u001b[0m\u001b[0m_is_categorical\u001b[0m \u001b[0;34m=\u001b[0m \u001b[0mis_categorical_dtype\u001b[0m\u001b[0;34m(\u001b[0m\u001b[0mdata\u001b[0m\u001b[0;34m)\u001b[0m\u001b[0;34m\u001b[0m\u001b[0;34m\u001b[0m\u001b[0m\n\u001b[1;32m   2043\u001b[0m         \u001b[0mself\u001b[0m\u001b[0;34m.\u001b[0m\u001b[0m_is_string\u001b[0m \u001b[0;34m=\u001b[0m \u001b[0mdata\u001b[0m\u001b[0;34m.\u001b[0m\u001b[0mdtype\u001b[0m\u001b[0;34m.\u001b[0m\u001b[0mname\u001b[0m \u001b[0;34m==\u001b[0m \u001b[0;34m\"string\"\u001b[0m\u001b[0;34m\u001b[0m\u001b[0;34m\u001b[0m\u001b[0m\n",
      "\u001b[0;32m/dataquest/system/env/python3/lib/python3.8/site-packages/pandas/core/strings.py\u001b[0m in \u001b[0;36m_validate\u001b[0;34m(data)\u001b[0m\n\u001b[1;32m   2096\u001b[0m \u001b[0;34m\u001b[0m\u001b[0m\n\u001b[1;32m   2097\u001b[0m         \u001b[0;32mif\u001b[0m \u001b[0minferred_dtype\u001b[0m \u001b[0;32mnot\u001b[0m \u001b[0;32min\u001b[0m \u001b[0mallowed_types\u001b[0m\u001b[0;34m:\u001b[0m\u001b[0;34m\u001b[0m\u001b[0;34m\u001b[0m\u001b[0m\n\u001b[0;32m-> 2098\u001b[0;31m             \u001b[0;32mraise\u001b[0m \u001b[0mAttributeError\u001b[0m\u001b[0;34m(\u001b[0m\u001b[0;34m\"Can only use .str accessor with string values!\"\u001b[0m\u001b[0;34m)\u001b[0m\u001b[0;34m\u001b[0m\u001b[0;34m\u001b[0m\u001b[0m\n\u001b[0m\u001b[1;32m   2099\u001b[0m         \u001b[0;32mreturn\u001b[0m \u001b[0minferred_dtype\u001b[0m\u001b[0;34m\u001b[0m\u001b[0;34m\u001b[0m\u001b[0m\n\u001b[1;32m   2100\u001b[0m \u001b[0;34m\u001b[0m\u001b[0m\n",
      "\u001b[0;31mAttributeError\u001b[0m: Can only use .str accessor with string values!"
     ]
    }
   ],
   "source": [
    "print('ORIGINAL','\\n','\\n',dete_resignations['cease_date'],'\\n')\n",
    "print('ORIGINAL SPLIT','\\n','\\n',dete_resignations['cease_date'].str.split('/'),'\\n')\n",
    "print('UPDATED','\\n','\\n',dete_resignations['cease_date'].str.split('/').str.get(-1),'\\n')\n",
    "dete_resignations['cease_date'] = dete_resignations['cease_date'].str.split('/').str.get(-1).astype(float)"
   ]
  },
  {
   "cell_type": "code",
   "execution_count": null,
   "metadata": {
    "scrolled": true
   },
   "outputs": [],
   "source": [
    "dete_resignations['cease_date'].value_counts()\n"
   ]
  },
  {
   "cell_type": "markdown",
   "metadata": {},
   "source": [
    "### Plot a boxplot to identify if any values look wrong "
   ]
  },
  {
   "cell_type": "code",
   "execution_count": 27,
   "metadata": {
    "scrolled": true
   },
   "outputs": [
    {
     "data": {
      "text/plain": [
       "<matplotlib.axes._subplots.AxesSubplot at 0x7f7436127160>"
      ]
     },
     "execution_count": 27,
     "metadata": {},
     "output_type": "execute_result"
    },
    {
     "data": {
      "image/png": "[encoded data removed]",
      "text/plain": [
       "<Figure size 600x400 with 1 Axes>"
      ]
     },
     "metadata": {},
     "output_type": "display_data"
    }
   ],
   "source": [
    "dete_resignations[['dete_start_date','cease_date']].plot(kind='box')"
   ]
  },
  {
   "cell_type": "code",
   "execution_count": 28,
   "metadata": {},
   "outputs": [
    {
     "data": {
      "text/plain": [
       "2014.0     22\n",
       "2013.0    146\n",
       "2012.0    129\n",
       "2010.0      2\n",
       "2006.0      1\n",
       "Name: cease_date, dtype: int64"
      ]
     },
     "execution_count": 28,
     "metadata": {},
     "output_type": "execute_result"
    }
   ],
   "source": [
    "dete_resignations['cease_date'].value_counts().sort_index(ascending = False)"
   ]
  },
  {
   "cell_type": "code",
   "execution_count": 29,
   "metadata": {},
   "outputs": [
    {
     "data": {
      "text/plain": [
       "2013.0    10\n",
       "2012.0    21\n",
       "2011.0    24\n",
       "2010.0    17\n",
       "2009.0    13\n",
       "2008.0    22\n",
       "2007.0    21\n",
       "2006.0    13\n",
       "2005.0    15\n",
       "2004.0    14\n",
       "2003.0     6\n",
       "2002.0     6\n",
       "2001.0     3\n",
       "2000.0     9\n",
       "1999.0     8\n",
       "1998.0     6\n",
       "1997.0     5\n",
       "1996.0     6\n",
       "1995.0     4\n",
       "1994.0     6\n",
       "1993.0     5\n",
       "1992.0     6\n",
       "1991.0     4\n",
       "1990.0     5\n",
       "1989.0     4\n",
       "1988.0     4\n",
       "1987.0     1\n",
       "1986.0     3\n",
       "1985.0     3\n",
       "1984.0     1\n",
       "1983.0     2\n",
       "1982.0     1\n",
       "1980.0     5\n",
       "1977.0     1\n",
       "1976.0     2\n",
       "1975.0     1\n",
       "1974.0     2\n",
       "1973.0     1\n",
       "1972.0     1\n",
       "1971.0     1\n",
       "1963.0     1\n",
       "Name: dete_start_date, dtype: int64"
      ]
     },
     "execution_count": 29,
     "metadata": {},
     "output_type": "execute_result"
    }
   ],
   "source": [
    "dete_resignations['dete_start_date'].value_counts().sort_index(ascending = False)"
   ]
  },
  {
   "cell_type": "code",
   "execution_count": 30,
   "metadata": {},
   "outputs": [
    {
     "data": {
      "text/plain": [
       "2009.0      2\n",
       "2010.0     68\n",
       "2011.0    116\n",
       "2012.0     94\n",
       "2013.0     55\n",
       "Name: cease_date, dtype: int64"
      ]
     },
     "execution_count": 30,
     "metadata": {},
     "output_type": "execute_result"
    }
   ],
   "source": [
    "tafe_resignations['cease_date'].value_counts().sort_index(ascending = True)"
   ]
  },
  {
   "cell_type": "code",
   "execution_count": 31,
   "metadata": {},
   "outputs": [
    {
     "name": "stdout",
     "output_type": "stream",
     "text": [
      "Index(['id', 'separationtype', 'cease_date', 'dete_start_date',\n",
      "       'role_start_date', 'position', 'classification', 'region',\n",
      "       'business_unit', 'employment_status', 'career_move_to_public_sector',\n",
      "       'career_move_to_private_sector', 'interpersonal_conflicts',\n",
      "       'job_dissatisfaction', 'dissatisfaction_with_the_department',\n",
      "       'physical_work_environment', 'lack_of_recognition',\n",
      "       'lack_of_job_security', 'work_location', 'employment_conditions',\n",
      "       'maternity/family', 'relocation', 'study/travel', 'ill_health',\n",
      "       'traumatic_incident', 'work_life_balance', 'workload',\n",
      "       'none_of_the_above', 'gender', 'age', 'aboriginal', 'torres_strait',\n",
      "       'south_sea', 'disability', 'nesb'],\n",
      "      dtype='object')\n"
     ]
    }
   ],
   "source": [
    "# dete_resignations['institute_service'] = 'institute_service'\n",
    "print(dete_resignations.columns)\n",
    "\n",
    "# cease_date - dete_start_date "
   ]
  },
  {
   "cell_type": "code",
   "execution_count": 32,
   "metadata": {},
   "outputs": [
    {
     "data": {
      "text/plain": [
       "3      2012.0\n",
       "5      2012.0\n",
       "8      2012.0\n",
       "9      2012.0\n",
       "11     2012.0\n",
       "        ...  \n",
       "808    2013.0\n",
       "815    2014.0\n",
       "816    2014.0\n",
       "819    2014.0\n",
       "821    2013.0\n",
       "Name: cease_date, Length: 311, dtype: float64"
      ]
     },
     "execution_count": 32,
     "metadata": {},
     "output_type": "execute_result"
    }
   ],
   "source": [
    "dete_resignations['cease_date']"
   ]
  },
  {
   "cell_type": "markdown",
   "metadata": {},
   "source": [
    "### Create a new column names 'institute_service'"
   ]
  },
  {
   "cell_type": "code",
   "execution_count": 33,
   "metadata": {},
   "outputs": [
    {
     "name": "stdout",
     "output_type": "stream",
     "text": [
      "49.0     1\n",
      "42.0     1\n",
      "41.0     1\n",
      "39.0     3\n",
      "38.0     1\n",
      "36.0     2\n",
      "35.0     1\n",
      "34.0     1\n",
      "33.0     1\n",
      "32.0     3\n",
      "31.0     1\n",
      "30.0     2\n",
      "29.0     1\n",
      "28.0     2\n",
      "27.0     1\n",
      "26.0     2\n",
      "25.0     2\n",
      "24.0     4\n",
      "23.0     4\n",
      "22.0     6\n",
      "21.0     3\n",
      "20.0     7\n",
      "19.0     3\n",
      "18.0     5\n",
      "17.0     6\n",
      "16.0     5\n",
      "15.0     7\n",
      "14.0     6\n",
      "13.0     8\n",
      "12.0     6\n",
      "11.0     4\n",
      "10.0     6\n",
      "9.0     14\n",
      "8.0      8\n",
      "7.0     13\n",
      "6.0     17\n",
      "5.0     23\n",
      "4.0     16\n",
      "3.0     20\n",
      "2.0     14\n",
      "1.0     22\n",
      "0.0     20\n",
      "Name: institute_service, dtype: int64\n"
     ]
    }
   ],
   "source": [
    "dete_resignations['institute_service'] = dete_resignations['cease_date'] - dete_resignations['dete_start_date']\n",
    "print(dete_resignations['institute_service'].value_counts().sort_index(ascending = False))"
   ]
  },
  {
   "cell_type": "markdown",
   "metadata": {},
   "source": [
    "Created a new column named institute service in the Dete Survey DataFrame in order to match the institute service column in the Tafe Survey DataFrame. As well as the values that the institute serivce columns will contain is the duration of employment for each employee. "
   ]
  },
  {
   "cell_type": "code",
   "execution_count": 34,
   "metadata": {},
   "outputs": [
    {
     "name": "stdout",
     "output_type": "stream",
     "text": [
      "-                                         277\n",
      "Contributing Factors. Dissatisfaction      55\n",
      "Name: Contributing Factors. Dissatisfaction, dtype: int64 \n",
      "\n"
     ]
    },
    {
     "data": {
      "text/plain": [
       "-                      270\n",
       "Job Dissatisfaction     62\n",
       "Name: Contributing Factors. Job Dissatisfaction, dtype: int64"
      ]
     },
     "execution_count": 34,
     "metadata": {},
     "output_type": "execute_result"
    }
   ],
   "source": [
    "print(tafe_resignations['Contributing Factors. Dissatisfaction'].value_counts(),'\\n')\n",
    "tafe_resignations['Contributing Factors. Job Dissatisfaction'].value_counts()"
   ]
  },
  {
   "cell_type": "markdown",
   "metadata": {},
   "source": [
    "### Create a function that returns np.nan, False or True"
   ]
  },
  {
   "cell_type": "code",
   "execution_count": 35,
   "metadata": {},
   "outputs": [
    {
     "name": "stdout",
     "output_type": "stream",
     "text": [
      "  Contributing Factors. Dissatisfaction  \\\n",
      "3                                 False   \n",
      "4                                 False   \n",
      "5                                 False   \n",
      "6                                 False   \n",
      "7                                 False   \n",
      "\n",
      "  Contributing Factors. Job Dissatisfaction  \n",
      "3                                     False  \n",
      "4                                     False  \n",
      "5                                     False  \n",
      "6                                     False  \n",
      "7                                     False  \n"
     ]
    }
   ],
   "source": [
    "def update_vals(val):\n",
    "        if pd.isnull(val):\n",
    "            return np.nan\n",
    "        elif val == '-':\n",
    "            return False\n",
    "        else:\n",
    "            return True\n",
    "        \n",
    "tafe_resignations[['Contributing Factors. Dissatisfaction', 'Contributing Factors. Job Dissatisfaction']] = tafe_resignations[['Contributing Factors. Dissatisfaction', 'Contributing Factors. Job Dissatisfaction']].applymap(update_vals)\n",
    "print(tafe_resignations[['Contributing Factors. Dissatisfaction', 'Contributing Factors. Job Dissatisfaction']].head())"
   ]
  },
  {
   "cell_type": "markdown",
   "metadata": {},
   "source": [
    "### Create a column 'dissatisified' in dete_resignations\n"
   ]
  },
  {
   "cell_type": "code",
   "execution_count": 36,
   "metadata": {},
   "outputs": [
    {
     "data": {
      "text/plain": [
       "False    162\n",
       "True     149\n",
       "Name: dissatisfied, dtype: int64"
      ]
     },
     "execution_count": 36,
     "metadata": {},
     "output_type": "execute_result"
    }
   ],
   "source": [
    "dete_resignations['dissatisfied'] = dete_resignations[['job_dissatisfaction',\n",
    "        'dissatisfaction_with_the_department','physical_work_environment',\n",
    "        'lack_of_recognition','lack_of_job_security','work_location',\n",
    "        'employment_conditions','work_life_balance',\n",
    "        'workload']].any(axis = 1,skipna = False)\n",
    "\n",
    "dete_resignations_up = dete_resignations.copy()\n",
    "\n",
    "dete_resignations_up['dissatisfied'].value_counts(dropna= False)"
   ]
  },
  {
   "cell_type": "markdown",
   "metadata": {},
   "source": [
    "### Create a column 'dissatisified' in tafe_resignations by applying the function we created to update the values in the new column 'dissatisfied'\n"
   ]
  },
  {
   "cell_type": "code",
   "execution_count": 37,
   "metadata": {},
   "outputs": [
    {
     "data": {
      "text/plain": [
       "True    332\n",
       "Name: dissatisfied, dtype: int64"
      ]
     },
     "execution_count": 37,
     "metadata": {},
     "output_type": "execute_result"
    }
   ],
   "source": [
    "# cols = ['Contributing Factors. Dissatisfaction', 'Contributing Factors. Job Dissatisfaction']\n",
    "#creating new column dissatisfied\n",
    "tafe_resignations['dissatisfied'] = tafe_resignations[['Contributing Factors. Dissatisfaction', 'Contributing Factors. Job Dissatisfaction']].applymap(update_vals).any(axis=1, skipna=False)\n",
    "\n",
    "#creating a copy of the dataset to avoid SettingWithCopy warn\n",
    "tafe_resignations_up = tafe_resignations.copy()\n",
    "\n",
    "#Displaying value counts\n",
    "tafe_resignations_up['dissatisfied'].value_counts()\n"
   ]
  },
  {
   "cell_type": "markdown",
   "metadata": {},
   "source": [
    "**RECAP**\n",
    "\n",
    "- Created a function named update_vals, that returned np.nan, False or True depending on the circumstances\n",
    "- Used df.applymap() with the function update_vals in order to update the values of tafe_resignations\n",
    "- Use df.any() to create a 'dissatisfied' column to both DataFrames\n",
    "- Use df.copy() to copy the results and avoid SettingWithCopyWarning, then assign them to dete_resignations_up and tafe_resignations_up\n",
    "\n"
   ]
  },
  {
   "cell_type": "code",
   "execution_count": 38,
   "metadata": {},
   "outputs": [],
   "source": [
    "# print(dete_resignations_up.value_counts(),'\\n')\n",
    "# print(tafe_resignations_up.value_counts())"
   ]
  },
  {
   "cell_type": "markdown",
   "metadata": {},
   "source": [
    "### Assign both DataFrames to a value that correlates with the name of the DataFrame "
   ]
  },
  {
   "cell_type": "code",
   "execution_count": 39,
   "metadata": {},
   "outputs": [],
   "source": [
    "dete_resignations_up['institute'] = 'DETE'\n",
    "tafe_resignations_up['institute'] = 'TAFE'"
   ]
  },
  {
   "cell_type": "markdown",
   "metadata": {},
   "source": [
    "### Combine both DataFrames "
   ]
  },
  {
   "cell_type": "code",
   "execution_count": 40,
   "metadata": {
    "scrolled": false
   },
   "outputs": [],
   "source": [
    "#create a column containing the institute to enable to results to be compared by institute later on\n",
    "\n",
    "combined = pd.concat([dete_resignations_up, tafe_resignations_up], ignore_index=True)\n",
    "#print(combined.head())\n",
    "\n",
    "combined_updated = combined.dropna(thresh = 500, axis =1).copy()"
   ]
  },
  {
   "cell_type": "markdown",
   "metadata": {},
   "source": [
    "**RECAP**\n",
    "\n",
    "- Added a new column named 'institute' to both DataFrames, as well as set them equal to a value that correlates with the name of each DataFrame\n",
    "- Combined both DataFrames\n",
    "- Dropped columns that had 500 or more non null values\n",
    "- Assigned the results to combined_updated"
   ]
  },
  {
   "cell_type": "markdown",
   "metadata": {},
   "source": [
    "### Print first 5 rows in combined_updated"
   ]
  },
  {
   "cell_type": "code",
   "execution_count": 41,
   "metadata": {},
   "outputs": [
    {
     "data": {
      "text/html": [
       "<div>\n",
       "<style scoped>\n",
       "    .dataframe tbody tr th:only-of-type {\n",
       "        vertical-align: middle;\n",
       "    }\n",
       "\n",
       "    .dataframe tbody tr th {\n",
       "        vertical-align: top;\n",
       "    }\n",
       "\n",
       "    .dataframe thead th {\n",
       "        text-align: right;\n",
       "    }\n",
       "</style>\n",
       "<table border=\"1\" class=\"dataframe\">\n",
       "  <thead>\n",
       "    <tr style=\"text-align: right;\">\n",
       "      <th></th>\n",
       "      <th>id</th>\n",
       "      <th>separationtype</th>\n",
       "      <th>cease_date</th>\n",
       "      <th>position</th>\n",
       "      <th>employment_status</th>\n",
       "      <th>gender</th>\n",
       "      <th>age</th>\n",
       "      <th>institute_service</th>\n",
       "      <th>dissatisfied</th>\n",
       "      <th>institute</th>\n",
       "    </tr>\n",
       "  </thead>\n",
       "  <tbody>\n",
       "    <tr>\n",
       "      <th>0</th>\n",
       "      <td>4.0</td>\n",
       "      <td>Resignation-Other reasons</td>\n",
       "      <td>2012.0</td>\n",
       "      <td>Teacher</td>\n",
       "      <td>Permanent Full-time</td>\n",
       "      <td>Female</td>\n",
       "      <td>36-40</td>\n",
       "      <td>7</td>\n",
       "      <td>False</td>\n",
       "      <td>DETE</td>\n",
       "    </tr>\n",
       "    <tr>\n",
       "      <th>1</th>\n",
       "      <td>6.0</td>\n",
       "      <td>Resignation-Other reasons</td>\n",
       "      <td>2012.0</td>\n",
       "      <td>Guidance Officer</td>\n",
       "      <td>Permanent Full-time</td>\n",
       "      <td>Female</td>\n",
       "      <td>41-45</td>\n",
       "      <td>18</td>\n",
       "      <td>True</td>\n",
       "      <td>DETE</td>\n",
       "    </tr>\n",
       "    <tr>\n",
       "      <th>2</th>\n",
       "      <td>9.0</td>\n",
       "      <td>Resignation-Other reasons</td>\n",
       "      <td>2012.0</td>\n",
       "      <td>Teacher</td>\n",
       "      <td>Permanent Full-time</td>\n",
       "      <td>Female</td>\n",
       "      <td>31-35</td>\n",
       "      <td>3</td>\n",
       "      <td>False</td>\n",
       "      <td>DETE</td>\n",
       "    </tr>\n",
       "    <tr>\n",
       "      <th>3</th>\n",
       "      <td>10.0</td>\n",
       "      <td>Resignation-Other employer</td>\n",
       "      <td>2012.0</td>\n",
       "      <td>Teacher Aide</td>\n",
       "      <td>Permanent Part-time</td>\n",
       "      <td>Female</td>\n",
       "      <td>46-50</td>\n",
       "      <td>15</td>\n",
       "      <td>True</td>\n",
       "      <td>DETE</td>\n",
       "    </tr>\n",
       "    <tr>\n",
       "      <th>4</th>\n",
       "      <td>12.0</td>\n",
       "      <td>Resignation-Move overseas/interstate</td>\n",
       "      <td>2012.0</td>\n",
       "      <td>Teacher</td>\n",
       "      <td>Permanent Full-time</td>\n",
       "      <td>Male</td>\n",
       "      <td>31-35</td>\n",
       "      <td>3</td>\n",
       "      <td>False</td>\n",
       "      <td>DETE</td>\n",
       "    </tr>\n",
       "  </tbody>\n",
       "</table>\n",
       "</div>"
      ],
      "text/plain": [
       "     id                        separationtype  cease_date          position  \\\n",
       "0   4.0             Resignation-Other reasons      2012.0           Teacher   \n",
       "1   6.0             Resignation-Other reasons      2012.0  Guidance Officer   \n",
       "2   9.0             Resignation-Other reasons      2012.0           Teacher   \n",
       "3  10.0            Resignation-Other employer      2012.0      Teacher Aide   \n",
       "4  12.0  Resignation-Move overseas/interstate      2012.0           Teacher   \n",
       "\n",
       "     employment_status  gender    age institute_service dissatisfied institute  \n",
       "0  Permanent Full-time  Female  36-40                 7        False      DETE  \n",
       "1  Permanent Full-time  Female  41-45                18         True      DETE  \n",
       "2  Permanent Full-time  Female  31-35                 3        False      DETE  \n",
       "3  Permanent Part-time  Female  46-50                15         True      DETE  \n",
       "4  Permanent Full-time    Male  31-35                 3        False      DETE  "
      ]
     },
     "execution_count": 41,
     "metadata": {},
     "output_type": "execute_result"
    }
   ],
   "source": [
    "combined_updated.head()\n"
   ]
  },
  {
   "cell_type": "markdown",
   "metadata": {},
   "source": [
    "### Shape of combined_updated"
   ]
  },
  {
   "cell_type": "code",
   "execution_count": 42,
   "metadata": {},
   "outputs": [
    {
     "data": {
      "text/plain": [
       "(651, 10)"
      ]
     },
     "execution_count": 42,
     "metadata": {},
     "output_type": "execute_result"
    }
   ],
   "source": [
    "combined_updated.shape"
   ]
  },
  {
   "cell_type": "markdown",
   "metadata": {},
   "source": [
    "### Combined Info "
   ]
  },
  {
   "cell_type": "code",
   "execution_count": 43,
   "metadata": {},
   "outputs": [
    {
     "name": "stdout",
     "output_type": "stream",
     "text": [
      "<class 'pandas.core.frame.DataFrame'>\n",
      "RangeIndex: 651 entries, 0 to 650\n",
      "Data columns (total 53 columns):\n",
      " #   Column                                               Non-Null Count  Dtype  \n",
      "---  ------                                               --------------  -----  \n",
      " 0   id                                                   651 non-null    float64\n",
      " 1   separationtype                                       651 non-null    object \n",
      " 2   cease_date                                           635 non-null    float64\n",
      " 3   dete_start_date                                      283 non-null    float64\n",
      " 4   role_start_date                                      271 non-null    float64\n",
      " 5   position                                             598 non-null    object \n",
      " 6   classification                                       161 non-null    object \n",
      " 7   region                                               265 non-null    object \n",
      " 8   business_unit                                        32 non-null     object \n",
      " 9   employment_status                                    597 non-null    object \n",
      " 10  career_move_to_public_sector                         311 non-null    object \n",
      " 11  career_move_to_private_sector                        311 non-null    object \n",
      " 12  interpersonal_conflicts                              311 non-null    object \n",
      " 13  job_dissatisfaction                                  311 non-null    object \n",
      " 14  dissatisfaction_with_the_department                  311 non-null    object \n",
      " 15  physical_work_environment                            311 non-null    object \n",
      " 16  lack_of_recognition                                  311 non-null    object \n",
      " 17  lack_of_job_security                                 311 non-null    object \n",
      " 18  work_location                                        311 non-null    object \n",
      " 19  employment_conditions                                311 non-null    object \n",
      " 20  maternity/family                                     311 non-null    object \n",
      " 21  relocation                                           311 non-null    object \n",
      " 22  study/travel                                         311 non-null    object \n",
      " 23  ill_health                                           311 non-null    object \n",
      " 24  traumatic_incident                                   311 non-null    object \n",
      " 25  work_life_balance                                    311 non-null    object \n",
      " 26  workload                                             311 non-null    object \n",
      " 27  none_of_the_above                                    311 non-null    object \n",
      " 28  gender                                               592 non-null    object \n",
      " 29  age                                                  596 non-null    object \n",
      " 30  aboriginal                                           7 non-null      object \n",
      " 31  torres_strait                                        0 non-null      object \n",
      " 32  south_sea                                            3 non-null      object \n",
      " 33  disability                                           8 non-null      object \n",
      " 34  nesb                                                 9 non-null      object \n",
      " 35  institute_service                                    563 non-null    object \n",
      " 36  dissatisfied                                         643 non-null    object \n",
      " 37  institute                                            651 non-null    object \n",
      " 38  Institute                                            340 non-null    object \n",
      " 39  WorkArea                                             340 non-null    object \n",
      " 40  Contributing Factors. Career Move - Public Sector    332 non-null    object \n",
      " 41  Contributing Factors. Career Move - Private Sector   332 non-null    object \n",
      " 42  Contributing Factors. Career Move - Self-employment  332 non-null    object \n",
      " 43  Contributing Factors. Ill Health                     332 non-null    object \n",
      " 44  Contributing Factors. Maternity/Family               332 non-null    object \n",
      " 45  Contributing Factors. Dissatisfaction                332 non-null    object \n",
      " 46  Contributing Factors. Job Dissatisfaction            332 non-null    object \n",
      " 47  Contributing Factors. Interpersonal Conflict         332 non-null    object \n",
      " 48  Contributing Factors. Study                          332 non-null    object \n",
      " 49  Contributing Factors. Travel                         332 non-null    object \n",
      " 50  Contributing Factors. Other                          332 non-null    object \n",
      " 51  Contributing Factors. NONE                           332 non-null    object \n",
      " 52  role_service                                         290 non-null    object \n",
      "dtypes: float64(4), object(49)\n",
      "memory usage: 269.7+ KB\n"
     ]
    }
   ],
   "source": [
    "#Quick exploration of Combined \n",
    "\n",
    "combined.info()"
   ]
  },
  {
   "cell_type": "markdown",
   "metadata": {},
   "source": [
    "### Non-Null Values in Combined"
   ]
  },
  {
   "cell_type": "code",
   "execution_count": 44,
   "metadata": {},
   "outputs": [
    {
     "data": {
      "text/plain": [
       "torres_strait                                            0\n",
       "south_sea                                                3\n",
       "aboriginal                                               7\n",
       "disability                                               8\n",
       "nesb                                                     9\n",
       "business_unit                                           32\n",
       "classification                                         161\n",
       "region                                                 265\n",
       "role_start_date                                        271\n",
       "dete_start_date                                        283\n",
       "role_service                                           290\n",
       "none_of_the_above                                      311\n",
       "work_life_balance                                      311\n",
       "traumatic_incident                                     311\n",
       "ill_health                                             311\n",
       "study/travel                                           311\n",
       "relocation                                             311\n",
       "maternity/family                                       311\n",
       "employment_conditions                                  311\n",
       "workload                                               311\n",
       "lack_of_job_security                                   311\n",
       "career_move_to_public_sector                           311\n",
       "career_move_to_private_sector                          311\n",
       "interpersonal_conflicts                                311\n",
       "work_location                                          311\n",
       "dissatisfaction_with_the_department                    311\n",
       "physical_work_environment                              311\n",
       "lack_of_recognition                                    311\n",
       "job_dissatisfaction                                    311\n",
       "Contributing Factors. Job Dissatisfaction              332\n",
       "Contributing Factors. Travel                           332\n",
       "Contributing Factors. Maternity/Family                 332\n",
       "Contributing Factors. Ill Health                       332\n",
       "Contributing Factors. Career Move - Self-employment    332\n",
       "Contributing Factors. Career Move - Private Sector     332\n",
       "Contributing Factors. Career Move - Public Sector      332\n",
       "Contributing Factors. Dissatisfaction                  332\n",
       "Contributing Factors. Other                            332\n",
       "Contributing Factors. Interpersonal Conflict           332\n",
       "Contributing Factors. NONE                             332\n",
       "Contributing Factors. Study                            332\n",
       "Institute                                              340\n",
       "WorkArea                                               340\n",
       "institute_service                                      563\n",
       "gender                                                 592\n",
       "age                                                    596\n",
       "employment_status                                      597\n",
       "position                                               598\n",
       "cease_date                                             635\n",
       "dissatisfied                                           643\n",
       "separationtype                                         651\n",
       "institute                                              651\n",
       "id                                                     651\n",
       "dtype: int64"
      ]
     },
     "execution_count": 44,
     "metadata": {},
     "output_type": "execute_result"
    }
   ],
   "source": [
    "#Check for not null values in Combined \n",
    "\n",
    "combined.notnull().sum().sort_values()"
   ]
  },
  {
   "cell_type": "markdown",
   "metadata": {},
   "source": [
    "### Null Values in Combined "
   ]
  },
  {
   "cell_type": "code",
   "execution_count": 45,
   "metadata": {},
   "outputs": [
    {
     "data": {
      "text/plain": [
       "id                                                       0\n",
       "separationtype                                           0\n",
       "institute                                                0\n",
       "dissatisfied                                             8\n",
       "cease_date                                              16\n",
       "position                                                53\n",
       "employment_status                                       54\n",
       "age                                                     55\n",
       "gender                                                  59\n",
       "institute_service                                       88\n",
       "Institute                                              311\n",
       "WorkArea                                               311\n",
       "Contributing Factors. Career Move - Public Sector      319\n",
       "Contributing Factors. Career Move - Private Sector     319\n",
       "Contributing Factors. Ill Health                       319\n",
       "Contributing Factors. Maternity/Family                 319\n",
       "Contributing Factors. Dissatisfaction                  319\n",
       "Contributing Factors. Job Dissatisfaction              319\n",
       "Contributing Factors. Interpersonal Conflict           319\n",
       "Contributing Factors. Study                            319\n",
       "Contributing Factors. Travel                           319\n",
       "Contributing Factors. Other                            319\n",
       "Contributing Factors. Career Move - Self-employment    319\n",
       "Contributing Factors. NONE                             319\n",
       "none_of_the_above                                      340\n",
       "workload                                               340\n",
       "traumatic_incident                                     340\n",
       "career_move_to_public_sector                           340\n",
       "career_move_to_private_sector                          340\n",
       "interpersonal_conflicts                                340\n",
       "job_dissatisfaction                                    340\n",
       "dissatisfaction_with_the_department                    340\n",
       "physical_work_environment                              340\n",
       "work_life_balance                                      340\n",
       "lack_of_job_security                                   340\n",
       "work_location                                          340\n",
       "lack_of_recognition                                    340\n",
       "maternity/family                                       340\n",
       "relocation                                             340\n",
       "study/travel                                           340\n",
       "ill_health                                             340\n",
       "employment_conditions                                  340\n",
       "role_service                                           361\n",
       "dete_start_date                                        368\n",
       "role_start_date                                        380\n",
       "region                                                 386\n",
       "classification                                         490\n",
       "business_unit                                          619\n",
       "nesb                                                   642\n",
       "disability                                             643\n",
       "aboriginal                                             644\n",
       "south_sea                                              648\n",
       "torres_strait                                          651\n",
       "dtype: int64"
      ]
     },
     "execution_count": 45,
     "metadata": {},
     "output_type": "execute_result"
    }
   ],
   "source": [
    "#Check for null values in Combined \n",
    "\n",
    "combined.isnull().sum().sort_values()"
   ]
  },
  {
   "cell_type": "markdown",
   "metadata": {},
   "source": [
    "### Extract years of service from each value in the 'institute_service' column"
   ]
  },
  {
   "cell_type": "code",
   "execution_count": 46,
   "metadata": {},
   "outputs": [],
   "source": [
    "combined_updated['institute_service'] = combined_updated['institute_service'].astype(str)"
   ]
  },
  {
   "cell_type": "code",
   "execution_count": 47,
   "metadata": {
    "scrolled": true
   },
   "outputs": [
    {
     "name": "stdout",
     "output_type": "stream",
     "text": [
      "    id                        separationtype  cease_date  dete_start_date  \\\n",
      "3    4             Resignation-Other reasons      2012.0           2005.0   \n",
      "5    6             Resignation-Other reasons      2012.0           1994.0   \n",
      "8    9             Resignation-Other reasons      2012.0           2009.0   \n",
      "9   10            Resignation-Other employer      2012.0           1997.0   \n",
      "11  12  Resignation-Move overseas/interstate      2012.0           2009.0   \n",
      "\n",
      "    role_start_date          position classification                region  \\\n",
      "3            2006.0           Teacher        Primary    Central Queensland   \n",
      "5            1997.0  Guidance Officer            NaN        Central Office   \n",
      "8            2009.0           Teacher      Secondary      North Queensland   \n",
      "9            2008.0      Teacher Aide            NaN                   NaN   \n",
      "11           2009.0           Teacher      Secondary  Far North Queensland   \n",
      "\n",
      "           business_unit    employment_status  ...  none_of_the_above  gender  \\\n",
      "3                    NaN  Permanent Full-time  ...              False  Female   \n",
      "5   Education Queensland  Permanent Full-time  ...              False  Female   \n",
      "8                    NaN  Permanent Full-time  ...              False  Female   \n",
      "9                    NaN  Permanent Part-time  ...              False  Female   \n",
      "11                   NaN  Permanent Full-time  ...              False    Male   \n",
      "\n",
      "      age  aboriginal  torres_strait  south_sea  disability  nesb  \\\n",
      "3   36-40         NaN            NaN        NaN         NaN   NaN   \n",
      "5   41-45         NaN            NaN        NaN         NaN   NaN   \n",
      "8   31-35         NaN            NaN        NaN         NaN   NaN   \n",
      "9   46-50         NaN            NaN        NaN         NaN   NaN   \n",
      "11  31-35         NaN            NaN        NaN         NaN   NaN   \n",
      "\n",
      "    institute_service  dissatisfied  \n",
      "3                 7.0         False  \n",
      "5                18.0          True  \n",
      "8                 3.0         False  \n",
      "9                15.0          True  \n",
      "11                3.0         False  \n",
      "\n",
      "[5 rows x 37 columns]\n"
     ]
    }
   ],
   "source": [
    "pattern = r\"(?P<Year>20[0-9]{2})\"\n",
    "\n",
    "combined_updated = combined_updated.copy() \n",
    "\n",
    "combined_updated['insitute_service'] = combined_updated['institute_service'].str.extract(r'(\\d+)').astype(float)\n",
    "#print(resig_years)\n",
    "\n",
    "print(dete_resignations.head())"
   ]
  },
  {
   "cell_type": "code",
   "execution_count": 48,
   "metadata": {},
   "outputs": [
    {
     "data": {
      "text/plain": [
       "nan                   88\n",
       "Less than 1 year      73\n",
       "1-2                   64\n",
       "3-4                   63\n",
       "5-6                   33\n",
       "11-20                 26\n",
       "5.0                   23\n",
       "1.0                   22\n",
       "7-10                  21\n",
       "3.0                   20\n",
       "0.0                   20\n",
       "6.0                   17\n",
       "4.0                   16\n",
       "2.0                   14\n",
       "9.0                   14\n",
       "7.0                   13\n",
       "More than 20 years    10\n",
       "8.0                    8\n",
       "13.0                   8\n",
       "15.0                   7\n",
       "20.0                   7\n",
       "22.0                   6\n",
       "12.0                   6\n",
       "10.0                   6\n",
       "14.0                   6\n",
       "17.0                   6\n",
       "16.0                   5\n",
       "18.0                   5\n",
       "24.0                   4\n",
       "23.0                   4\n",
       "11.0                   4\n",
       "21.0                   3\n",
       "32.0                   3\n",
       "39.0                   3\n",
       "19.0                   3\n",
       "30.0                   2\n",
       "26.0                   2\n",
       "28.0                   2\n",
       "36.0                   2\n",
       "25.0                   2\n",
       "49.0                   1\n",
       "42.0                   1\n",
       "27.0                   1\n",
       "33.0                   1\n",
       "35.0                   1\n",
       "41.0                   1\n",
       "31.0                   1\n",
       "38.0                   1\n",
       "29.0                   1\n",
       "34.0                   1\n",
       "Name: institute_service, dtype: int64"
      ]
     },
     "execution_count": 48,
     "metadata": {},
     "output_type": "execute_result"
    }
   ],
   "source": [
    "combined_updated['institute_service'].value_counts()"
   ]
  },
  {
   "cell_type": "code",
   "execution_count": 49,
   "metadata": {},
   "outputs": [
    {
     "data": {
      "text/plain": [
       "<bound method Series.unique of 0       7.0\n",
       "1      18.0\n",
       "2       3.0\n",
       "3      15.0\n",
       "4       3.0\n",
       "       ... \n",
       "646     5-6\n",
       "647     1-2\n",
       "648     nan\n",
       "649     5-6\n",
       "650     3-4\n",
       "Name: institute_service, Length: 651, dtype: object>"
      ]
     },
     "execution_count": 49,
     "metadata": {},
     "output_type": "execute_result"
    }
   ],
   "source": [
    "combined_updated['institute_service'].unique"
   ]
  },
  {
   "cell_type": "code",
   "execution_count": 50,
   "metadata": {},
   "outputs": [],
   "source": [
    "# # Define function\n",
    "# def career_stages(years):\n",
    "#     if pd.isnull(years):\n",
    "#         return 'Non-Existent'   \n",
    "#     elif years < 3:\n",
    "#         return ('New')\n",
    "#     elif years < 7:\n",
    "#         return ('Eperienced')\n",
    "#     elif years < 11:\n",
    "#         return ('Established')\n",
    "#     else:\n",
    "#         return ('Veteran')\n",
    "    "
   ]
  },
  {
   "cell_type": "code",
   "execution_count": 51,
   "metadata": {},
   "outputs": [],
   "source": [
    "# combined_updated['service_cat'] = combined_updated['institute_service'].apply(career_stages).astype(float)\n",
    "# # combined_updated['service_cat'] = combined_updated['service_cat'].astype(float)\n",
    "\n",
    "# # #Check if changed applied\n",
    "\n",
    "# # combined_updated['service_cat'].unique()"
   ]
  },
  {
   "cell_type": "code",
   "execution_count": 52,
   "metadata": {},
   "outputs": [
    {
     "ename": "TypeError",
     "evalue": "'<' not supported between instances of 'str' and 'int'",
     "output_type": "error",
     "traceback": [
      "\u001b[0;31m---------------------------------------------------------------------------\u001b[0m",
      "\u001b[0;31mTypeError\u001b[0m                                 Traceback (most recent call last)",
      "\u001b[0;32m<ipython-input-52-d8941de92b88>\u001b[0m in \u001b[0;36m<module>\u001b[0;34m\u001b[0m\n\u001b[1;32m     11\u001b[0m         \u001b[0;32mreturn\u001b[0m \u001b[0;34m'Veteran'\u001b[0m\u001b[0;34m\u001b[0m\u001b[0;34m\u001b[0m\u001b[0m\n\u001b[1;32m     12\u001b[0m \u001b[0;34m\u001b[0m\u001b[0m\n\u001b[0;32m---> 13\u001b[0;31m \u001b[0mcombined_updated\u001b[0m\u001b[0;34m[\u001b[0m\u001b[0;34m'service_cat'\u001b[0m\u001b[0;34m]\u001b[0m \u001b[0;34m=\u001b[0m \u001b[0mcombined_updated\u001b[0m\u001b[0;34m[\u001b[0m\u001b[0;34m'institute_service'\u001b[0m\u001b[0;34m]\u001b[0m\u001b[0;34m.\u001b[0m\u001b[0mapply\u001b[0m\u001b[0;34m(\u001b[0m\u001b[0mcareer_stages\u001b[0m\u001b[0;34m)\u001b[0m\u001b[0;34m\u001b[0m\u001b[0;34m\u001b[0m\u001b[0m\n\u001b[0m\u001b[1;32m     14\u001b[0m \u001b[0mprint\u001b[0m\u001b[0;34m(\u001b[0m\u001b[0;34m'Service Categories'\u001b[0m\u001b[0;34m)\u001b[0m\u001b[0;34m\u001b[0m\u001b[0;34m\u001b[0m\u001b[0m\n\u001b[1;32m     15\u001b[0m \u001b[0mprint\u001b[0m\u001b[0;34m(\u001b[0m\u001b[0mcombined_updated\u001b[0m\u001b[0;34m[\u001b[0m\u001b[0;34m'service_cat'\u001b[0m\u001b[0;34m]\u001b[0m\u001b[0;34m.\u001b[0m\u001b[0mvalue_counts\u001b[0m\u001b[0;34m(\u001b[0m\u001b[0mdropna\u001b[0m\u001b[0;34m=\u001b[0m\u001b[0;32mFalse\u001b[0m\u001b[0;34m)\u001b[0m\u001b[0;34m)\u001b[0m\u001b[0;34m\u001b[0m\u001b[0;34m\u001b[0m\u001b[0m\n",
      "\u001b[0;32m/dataquest/system/env/python3/lib/python3.8/site-packages/pandas/core/series.py\u001b[0m in \u001b[0;36mapply\u001b[0;34m(self, func, convert_dtype, args, **kwds)\u001b[0m\n\u001b[1;32m   3846\u001b[0m             \u001b[0;32melse\u001b[0m\u001b[0;34m:\u001b[0m\u001b[0;34m\u001b[0m\u001b[0;34m\u001b[0m\u001b[0m\n\u001b[1;32m   3847\u001b[0m                 \u001b[0mvalues\u001b[0m \u001b[0;34m=\u001b[0m \u001b[0mself\u001b[0m\u001b[0;34m.\u001b[0m\u001b[0mastype\u001b[0m\u001b[0;34m(\u001b[0m\u001b[0mobject\u001b[0m\u001b[0;34m)\u001b[0m\u001b[0;34m.\u001b[0m\u001b[0mvalues\u001b[0m\u001b[0;34m\u001b[0m\u001b[0;34m\u001b[0m\u001b[0m\n\u001b[0;32m-> 3848\u001b[0;31m                 \u001b[0mmapped\u001b[0m \u001b[0;34m=\u001b[0m \u001b[0mlib\u001b[0m\u001b[0;34m.\u001b[0m\u001b[0mmap_infer\u001b[0m\u001b[0;34m(\u001b[0m\u001b[0mvalues\u001b[0m\u001b[0;34m,\u001b[0m \u001b[0mf\u001b[0m\u001b[0;34m,\u001b[0m \u001b[0mconvert\u001b[0m\u001b[0;34m=\u001b[0m\u001b[0mconvert_dtype\u001b[0m\u001b[0;34m)\u001b[0m\u001b[0;34m\u001b[0m\u001b[0;34m\u001b[0m\u001b[0m\n\u001b[0m\u001b[1;32m   3849\u001b[0m \u001b[0;34m\u001b[0m\u001b[0m\n\u001b[1;32m   3850\u001b[0m         \u001b[0;32mif\u001b[0m \u001b[0mlen\u001b[0m\u001b[0;34m(\u001b[0m\u001b[0mmapped\u001b[0m\u001b[0;34m)\u001b[0m \u001b[0;32mand\u001b[0m \u001b[0misinstance\u001b[0m\u001b[0;34m(\u001b[0m\u001b[0mmapped\u001b[0m\u001b[0;34m[\u001b[0m\u001b[0;36m0\u001b[0m\u001b[0;34m]\u001b[0m\u001b[0;34m,\u001b[0m \u001b[0mSeries\u001b[0m\u001b[0;34m)\u001b[0m\u001b[0;34m:\u001b[0m\u001b[0;34m\u001b[0m\u001b[0;34m\u001b[0m\u001b[0m\n",
      "\u001b[0;32mpandas/_libs/lib.pyx\u001b[0m in \u001b[0;36mpandas._libs.lib.map_infer\u001b[0;34m()\u001b[0m\n",
      "\u001b[0;32m<ipython-input-52-d8941de92b88>\u001b[0m in \u001b[0;36mcareer_stages\u001b[0;34m(val)\u001b[0m\n\u001b[1;32m      2\u001b[0m     \u001b[0;32mif\u001b[0m \u001b[0mpd\u001b[0m\u001b[0;34m.\u001b[0m\u001b[0misnull\u001b[0m\u001b[0;34m(\u001b[0m\u001b[0mval\u001b[0m\u001b[0;34m)\u001b[0m\u001b[0;34m:\u001b[0m\u001b[0;34m\u001b[0m\u001b[0;34m\u001b[0m\u001b[0m\n\u001b[1;32m      3\u001b[0m         \u001b[0;32mreturn\u001b[0m \u001b[0mnp\u001b[0m\u001b[0;34m.\u001b[0m\u001b[0mnan\u001b[0m\u001b[0;34m\u001b[0m\u001b[0;34m\u001b[0m\u001b[0m\n\u001b[0;32m----> 4\u001b[0;31m     \u001b[0;32melif\u001b[0m \u001b[0mval\u001b[0m\u001b[0;34m<\u001b[0m\u001b[0;36m3\u001b[0m\u001b[0;34m:\u001b[0m\u001b[0;34m\u001b[0m\u001b[0;34m\u001b[0m\u001b[0m\n\u001b[0m\u001b[1;32m      5\u001b[0m         \u001b[0;32mreturn\u001b[0m \u001b[0;34m'New'\u001b[0m\u001b[0;34m\u001b[0m\u001b[0;34m\u001b[0m\u001b[0m\n\u001b[1;32m      6\u001b[0m     \u001b[0;32melif\u001b[0m \u001b[0;36m3\u001b[0m \u001b[0;34m<=\u001b[0m \u001b[0mval\u001b[0m \u001b[0;34m<=\u001b[0m \u001b[0;36m6\u001b[0m\u001b[0;34m:\u001b[0m\u001b[0;34m\u001b[0m\u001b[0;34m\u001b[0m\u001b[0m\n",
      "\u001b[0;31mTypeError\u001b[0m: '<' not supported between instances of 'str' and 'int'"
     ]
    }
   ],
   "source": [
    "def career_stages(val):\n",
    "    if pd.isnull(val):\n",
    "        return np.nan\n",
    "    elif val<3:\n",
    "        return 'New'\n",
    "    elif 3 <= val <= 6:\n",
    "        return 'Experienced'\n",
    "    elif 7<= val <= 10:\n",
    "        return 'Established'\n",
    "    elif 11 <= val:\n",
    "        return 'Veteran'\n",
    "\n",
    "combined_updated['service_cat'] = combined_updated['institute_service'].apply(career_stages)\n",
    "print('Service Categories')\n",
    "print(combined_updated['service_cat'].value_counts(dropna=False))"
   ]
  },
  {
   "cell_type": "code",
   "execution_count": 53,
   "metadata": {},
   "outputs": [],
   "source": [
    "# nan_service = combined_updated[combined_updated['service_cat']== np.nan]\n",
    "# print(nan_service.describe())"
   ]
  },
  {
   "cell_type": "code",
   "execution_count": 54,
   "metadata": {},
   "outputs": [],
   "source": [
    "# combined_updated['service_cat'] = combined_updated['service_cat'].dropna()\n",
    "# print(combined_updated['service_cat'].value_counts())"
   ]
  },
  {
   "cell_type": "markdown",
   "metadata": {},
   "source": [
    "**RECAP**\n",
    "\n",
    "- Extract years of service from each value in 'institute_service' column \n",
    "- Use Series.astype() to change the type to a 'str'\n",
    "- Use Vectorizzed String Methods in order to extract the years of service from each pattern \n",
    "- Use Series.astype() to change the type to a 'float'\n",
    "- Create a function named 'career_stages' to map the values to a new created column named 'service_cat'\n",
    "\n"
   ]
  },
  {
   "cell_type": "code",
   "execution_count": 55,
   "metadata": {
    "scrolled": true
   },
   "outputs": [
    {
     "data": {
      "text/plain": [
       "True     481\n",
       "False    162\n",
       "NaN        8\n",
       "Name: dissatisfied, dtype: int64"
      ]
     },
     "execution_count": 55,
     "metadata": {},
     "output_type": "execute_result"
    }
   ],
   "source": [
    "combined_updated['dissatisfied'].value_counts(dropna = False)"
   ]
  },
  {
   "cell_type": "code",
   "execution_count": 56,
   "metadata": {},
   "outputs": [],
   "source": [
    "combined_updated['dissatisfied'].fillna(False,inplace = True)"
   ]
  },
  {
   "cell_type": "code",
   "execution_count": 57,
   "metadata": {},
   "outputs": [
    {
     "ename": "TypeError",
     "evalue": "pivot_table() got multiple values for argument 'values'",
     "output_type": "error",
     "traceback": [
      "\u001b[0;31m---------------------------------------------------------------------------\u001b[0m",
      "\u001b[0;31mTypeError\u001b[0m                                 Traceback (most recent call last)",
      "\u001b[0;32m<ipython-input-57-42181c52776c>\u001b[0m in \u001b[0;36m<module>\u001b[0;34m\u001b[0m\n\u001b[0;32m----> 1\u001b[0;31m \u001b[0mcombined_updated_pivot\u001b[0m \u001b[0;34m=\u001b[0m \u001b[0mcombined_updated\u001b[0m\u001b[0;34m.\u001b[0m\u001b[0mpivot_table\u001b[0m\u001b[0;34m(\u001b[0m\u001b[0mcombined_updated\u001b[0m\u001b[0;34m,\u001b[0m \u001b[0mindex\u001b[0m \u001b[0;34m=\u001b[0m \u001b[0;34m'service_cat'\u001b[0m\u001b[0;34m,\u001b[0m \u001b[0mvalues\u001b[0m \u001b[0;34m=\u001b[0m \u001b[0;34m'dissatisfied'\u001b[0m\u001b[0;34m)\u001b[0m\u001b[0;34m\u001b[0m\u001b[0;34m\u001b[0m\u001b[0m\n\u001b[0m",
      "\u001b[0;31mTypeError\u001b[0m: pivot_table() got multiple values for argument 'values'"
     ]
    }
   ],
   "source": [
    "combined_updated_pivot = combined_updated.pivot_table(combined_updated, index = 'service_cat', values = 'dissatisfied')"
   ]
  },
  {
   "cell_type": "code",
   "execution_count": 58,
   "metadata": {},
   "outputs": [
    {
     "ename": "NameError",
     "evalue": "name 'combined_updated_pivot' is not defined",
     "output_type": "error",
     "traceback": [
      "\u001b[0;31m---------------------------------------------------------------------------\u001b[0m",
      "\u001b[0;31mNameError\u001b[0m                                 Traceback (most recent call last)",
      "\u001b[0;32m<ipython-input-58-06a56c523e35>\u001b[0m in \u001b[0;36m<module>\u001b[0;34m\u001b[0m\n\u001b[0;32m----> 1\u001b[0;31m \u001b[0mcombined_updated_pivot\u001b[0m\u001b[0;34m.\u001b[0m\u001b[0mplot\u001b[0m\u001b[0;34m(\u001b[0m\u001b[0mkind\u001b[0m \u001b[0;34m=\u001b[0m \u001b[0;34m'barh'\u001b[0m\u001b[0;34m,\u001b[0m\u001b[0mxlim\u001b[0m \u001b[0;34m=\u001b[0m \u001b[0;34m(\u001b[0m\u001b[0;36m0\u001b[0m\u001b[0;34m,\u001b[0m\u001b[0;36m10\u001b[0m\u001b[0;34m)\u001b[0m\u001b[0;34m,\u001b[0m\u001b[0mtitle\u001b[0m \u001b[0;34m=\u001b[0m \u001b[0;34m'Dissatsifaction of Service'\u001b[0m\u001b[0;34m,\u001b[0m\u001b[0mmargins\u001b[0m \u001b[0;34m=\u001b[0m \u001b[0;32mFalse\u001b[0m\u001b[0;34m)\u001b[0m\u001b[0;34m\u001b[0m\u001b[0;34m\u001b[0m\u001b[0m\n\u001b[0m",
      "\u001b[0;31mNameError\u001b[0m: name 'combined_updated_pivot' is not defined"
     ]
    }
   ],
   "source": [
    "combined_updated_pivot.plot(kind = 'barh',xlim = (0,10),title = 'Dissatsifaction of Service',margins = False)"
   ]
  }
 ],
 "metadata": {
  "kernelspec": {
   "display_name": "Python 3",
   "language": "python",
   "name": "python3"
  },
  "language_info": {
   "codemirror_mode": {
    "name": "ipython",
    "version": 3
   },
   "file_extension": ".py",
   "mimetype": "text/x-python",
   "name": "python",
   "nbconvert_exporter": "python",
   "pygments_lexer": "ipython3",
   "version": "3.8.2"
  }
 },
 "nbformat": 4,
 "nbformat_minor": 2
}
